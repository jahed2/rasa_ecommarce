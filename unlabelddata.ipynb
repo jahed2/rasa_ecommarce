{
  "nbformat": 4,
  "nbformat_minor": 0,
  "metadata": {
    "colab": {
      "name": "unlabelddata.ipynb",
      "provenance": [],
      "authorship_tag": "ABX9TyMaSy7gvyv4a3Hux8UHDNV4",
      "include_colab_link": true
    },
    "kernelspec": {
      "name": "python3",
      "display_name": "Python 3"
    },
    "language_info": {
      "name": "python"
    }
  },
  "cells": [
    {
      "cell_type": "markdown",
      "metadata": {
        "id": "view-in-github",
        "colab_type": "text"
      },
      "source": [
        "<a href=\"https://colab.research.google.com/github/jahed2/rasa_ecommarce/blob/master/unlabelddata.ipynb\" target=\"_parent\"><img src=\"https://colab.research.google.com/assets/colab-badge.svg\" alt=\"Open In Colab\"/></a>"
      ]
    },
    {
      "cell_type": "code",
      "metadata": {
        "colab": {
          "base_uri": "https://localhost:8080/",
          "height": 898
        },
        "id": "gY2JFiwX81yw",
        "outputId": "92f175f1-da6d-43c6-db38-1a0153c5f8d0"
      },
      "source": [
        "import pandas as pd\n",
        "df = pd.read_csv('/content/chats.csv',error_bad_lines=False)\n",
        "df"
      ],
      "execution_count": 1,
      "outputs": [
        {
          "output_type": "stream",
          "text": [
            "b'Skipping line 5: expected 7 fields, saw 9\\nSkipping line 10: expected 7 fields, saw 9\\nSkipping line 15: expected 7 fields, saw 9\\nSkipping line 17: expected 7 fields, saw 10\\nSkipping line 18: expected 7 fields, saw 9\\nSkipping line 19: expected 7 fields, saw 9\\nSkipping line 32: expected 7 fields, saw 9\\nSkipping line 34: expected 7 fields, saw 10\\nSkipping line 35: expected 7 fields, saw 8\\nSkipping line 39: expected 7 fields, saw 9\\nSkipping line 41: expected 7 fields, saw 12\\nSkipping line 45: expected 7 fields, saw 9\\nSkipping line 47: expected 7 fields, saw 10\\nSkipping line 48: expected 7 fields, saw 9\\nSkipping line 49: expected 7 fields, saw 9\\nSkipping line 62: expected 7 fields, saw 9\\nSkipping line 64: expected 7 fields, saw 10\\nSkipping line 65: expected 7 fields, saw 9\\nSkipping line 66: expected 7 fields, saw 9\\nSkipping line 71: expected 7 fields, saw 10\\nSkipping line 80: expected 7 fields, saw 13\\nSkipping line 81: expected 7 fields, saw 10\\nSkipping line 82: expected 7 fields, saw 9\\nSkipping line 83: expected 7 fields, saw 9\\nSkipping line 88: expected 7 fields, saw 10\\nSkipping line 97: expected 7 fields, saw 9\\nSkipping line 99: expected 7 fields, saw 10\\nSkipping line 100: expected 7 fields, saw 9\\nSkipping line 101: expected 7 fields, saw 9\\nSkipping line 106: expected 7 fields, saw 10\\nSkipping line 107: expected 7 fields, saw 11\\nSkipping line 110: expected 7 fields, saw 9\\nSkipping line 112: expected 7 fields, saw 10\\nSkipping line 113: expected 7 fields, saw 9\\nSkipping line 114: expected 7 fields, saw 9\\nSkipping line 119: expected 7 fields, saw 10\\nSkipping line 128: expected 7 fields, saw 9\\nSkipping line 130: expected 7 fields, saw 10\\nSkipping line 131: expected 7 fields, saw 9\\nSkipping line 132: expected 7 fields, saw 9\\nSkipping line 137: expected 7 fields, saw 10\\nSkipping line 146: expected 7 fields, saw 13\\nSkipping line 147: expected 7 fields, saw 10\\nSkipping line 148: expected 7 fields, saw 9\\nSkipping line 149: expected 7 fields, saw 9\\nSkipping line 154: expected 7 fields, saw 19\\nSkipping line 157: expected 7 fields, saw 13\\nSkipping line 158: expected 7 fields, saw 10\\nSkipping line 159: expected 7 fields, saw 9\\nSkipping line 160: expected 7 fields, saw 9\\nSkipping line 165: expected 7 fields, saw 10\\nSkipping line 174: expected 7 fields, saw 13\\nSkipping line 175: expected 7 fields, saw 10\\nSkipping line 176: expected 7 fields, saw 9\\nSkipping line 177: expected 7 fields, saw 9\\nSkipping line 182: expected 7 fields, saw 10\\nSkipping line 189: expected 7 fields, saw 9\\nSkipping line 190: expected 7 fields, saw 9\\nSkipping line 199: expected 7 fields, saw 13\\nSkipping line 200: expected 7 fields, saw 10\\nSkipping line 201: expected 7 fields, saw 9\\nSkipping line 202: expected 7 fields, saw 9\\nSkipping line 207: expected 7 fields, saw 10\\nSkipping line 216: expected 7 fields, saw 9\\nSkipping line 218: expected 7 fields, saw 10\\nSkipping line 219: expected 7 fields, saw 9\\nSkipping line 220: expected 7 fields, saw 9\\nSkipping line 233: expected 7 fields, saw 9\\nSkipping line 235: expected 7 fields, saw 10\\nSkipping line 236: expected 7 fields, saw 9\\nSkipping line 237: expected 7 fields, saw 9\\nSkipping line 251: expected 7 fields, saw 9\\nSkipping line 253: expected 7 fields, saw 10\\nSkipping line 254: expected 7 fields, saw 9\\nSkipping line 255: expected 7 fields, saw 9\\nSkipping line 269: expected 7 fields, saw 9\\nSkipping line 271: expected 7 fields, saw 10\\nSkipping line 272: expected 7 fields, saw 9\\nSkipping line 273: expected 7 fields, saw 9\\nSkipping line 275: expected 7 fields, saw 10\\nSkipping line 286: expected 7 fields, saw 9\\nSkipping line 288: expected 7 fields, saw 10\\nSkipping line 289: expected 7 fields, saw 9\\nSkipping line 290: expected 7 fields, saw 9\\nSkipping line 295: expected 7 fields, saw 10\\nSkipping line 304: expected 7 fields, saw 9\\nSkipping line 306: expected 7 fields, saw 10\\nSkipping line 307: expected 7 fields, saw 9\\nSkipping line 308: expected 7 fields, saw 9\\nSkipping line 312: expected 7 fields, saw 11\\nSkipping line 315: expected 7 fields, saw 9\\nSkipping line 317: expected 7 fields, saw 10\\nSkipping line 318: expected 7 fields, saw 9\\nSkipping line 319: expected 7 fields, saw 9\\nSkipping line 323: expected 7 fields, saw 11\\nSkipping line 326: expected 7 fields, saw 9\\nSkipping line 328: expected 7 fields, saw 10\\nSkipping line 329: expected 7 fields, saw 9\\nSkipping line 330: expected 7 fields, saw 9\\nSkipping line 334: expected 7 fields, saw 11\\nSkipping line 337: expected 7 fields, saw 9\\nSkipping line 339: expected 7 fields, saw 10\\nSkipping line 340: expected 7 fields, saw 9\\nSkipping line 341: expected 7 fields, saw 9\\nSkipping line 345: expected 7 fields, saw 11\\nSkipping line 348: expected 7 fields, saw 9\\nSkipping line 350: expected 7 fields, saw 10\\nSkipping line 351: expected 7 fields, saw 9\\nSkipping line 352: expected 7 fields, saw 9\\nSkipping line 354: expected 7 fields, saw 12\\nSkipping line 358: expected 7 fields, saw 9\\nSkipping line 360: expected 7 fields, saw 10\\nSkipping line 361: expected 7 fields, saw 9\\nSkipping line 362: expected 7 fields, saw 9\\nSkipping line 364: expected 7 fields, saw 12\\nSkipping line 366: expected 7 fields, saw 8\\nSkipping line 370: expected 7 fields, saw 9\\nSkipping line 372: expected 7 fields, saw 10\\nSkipping line 373: expected 7 fields, saw 9\\nSkipping line 374: expected 7 fields, saw 9\\nSkipping line 376: expected 7 fields, saw 12\\nSkipping line 378: expected 7 fields, saw 8\\nSkipping line 382: expected 7 fields, saw 11\\nSkipping line 385: expected 7 fields, saw 9\\nSkipping line 387: expected 7 fields, saw 10\\nSkipping line 388: expected 7 fields, saw 9\\nSkipping line 389: expected 7 fields, saw 9\\nSkipping line 397: expected 7 fields, saw 10\\nSkipping line 400: expected 7 fields, saw 9\\nSkipping line 402: expected 7 fields, saw 10\\nSkipping line 403: expected 7 fields, saw 9\\nSkipping line 404: expected 7 fields, saw 9\\nSkipping line 411: expected 7 fields, saw 10\\nSkipping line 414: expected 7 fields, saw 13\\nSkipping line 415: expected 7 fields, saw 10\\nSkipping line 416: expected 7 fields, saw 9\\nSkipping line 417: expected 7 fields, saw 9\\nSkipping line 426: expected 7 fields, saw 11\\nSkipping line 429: expected 7 fields, saw 13\\nSkipping line 430: expected 7 fields, saw 10\\nSkipping line 431: expected 7 fields, saw 9\\nSkipping line 432: expected 7 fields, saw 9\\nSkipping line 441: expected 7 fields, saw 12\\nSkipping line 445: expected 7 fields, saw 13\\nSkipping line 446: expected 7 fields, saw 10\\nSkipping line 447: expected 7 fields, saw 9\\nSkipping line 448: expected 7 fields, saw 9\\nSkipping line 457: expected 7 fields, saw 12\\nSkipping line 459: expected 7 fields, saw 9\\nSkipping line 460: expected 7 fields, saw 8\\nSkipping line 464: expected 7 fields, saw 13\\nSkipping line 465: expected 7 fields, saw 10\\nSkipping line 466: expected 7 fields, saw 9\\nSkipping line 467: expected 7 fields, saw 9\\nSkipping line 476: expected 7 fields, saw 12\\nSkipping line 478: expected 7 fields, saw 9\\nSkipping line 479: expected 7 fields, saw 8\\nSkipping line 480: expected 7 fields, saw 8\\nSkipping line 484: expected 7 fields, saw 9\\nSkipping line 486: expected 7 fields, saw 10\\nSkipping line 487: expected 7 fields, saw 9\\nSkipping line 488: expected 7 fields, saw 9\\nSkipping line 490: expected 7 fields, saw 10\\nSkipping line 495: expected 7 fields, saw 11\\nSkipping line 498: expected 7 fields, saw 9\\nSkipping line 500: expected 7 fields, saw 10\\nSkipping line 501: expected 7 fields, saw 9\\nSkipping line 502: expected 7 fields, saw 9\\nSkipping line 514: expected 7 fields, saw 9\\nSkipping line 516: expected 7 fields, saw 10\\nSkipping line 517: expected 7 fields, saw 9\\nSkipping line 522: expected 7 fields, saw 11\\nSkipping line 525: expected 7 fields, saw 13\\nSkipping line 526: expected 7 fields, saw 10\\nSkipping line 527: expected 7 fields, saw 9\\nSkipping line 532: expected 7 fields, saw 11\\nSkipping line 535: expected 7 fields, saw 9\\nSkipping line 537: expected 7 fields, saw 10\\nSkipping line 538: expected 7 fields, saw 9\\nSkipping line 543: expected 7 fields, saw 12\\nSkipping line 546: expected 7 fields, saw 9\\nSkipping line 548: expected 7 fields, saw 10\\nSkipping line 549: expected 7 fields, saw 9\\n'\n"
          ],
          "name": "stderr"
        },
        {
          "output_type": "execute_result",
          "data": {
            "text/html": [
              "<div>\n",
              "<style scoped>\n",
              "    .dataframe tbody tr th:only-of-type {\n",
              "        vertical-align: middle;\n",
              "    }\n",
              "\n",
              "    .dataframe tbody tr th {\n",
              "        vertical-align: top;\n",
              "    }\n",
              "\n",
              "    .dataframe thead th {\n",
              "        text-align: right;\n",
              "    }\n",
              "</style>\n",
              "<table border=\"1\" class=\"dataframe\">\n",
              "  <thead>\n",
              "    <tr style=\"text-align: right;\">\n",
              "      <th></th>\n",
              "      <th>intent</th>\n",
              "      <th>user_input</th>\n",
              "      <th>entity_name</th>\n",
              "      <th>entity_value</th>\n",
              "      <th>action</th>\n",
              "      <th>bot_reply</th>\n",
              "    </tr>\n",
              "  </thead>\n",
              "  <tbody>\n",
              "    <tr>\n",
              "      <th>greet</th>\n",
              "      <td>/greet</td>\n",
              "      <td>NaN</td>\n",
              "      <td>NaN</td>\n",
              "      <td>utter_botgreet</td>\n",
              "      <td>Welcome to our shop</td>\n",
              "      <td>how can i help you sir?</td>\n",
              "    </tr>\n",
              "    <tr>\n",
              "      <th>utter_multiple</th>\n",
              "      <td>We have multiple items</td>\n",
              "      <td>NaN</td>\n",
              "      <td>NaN</td>\n",
              "      <td>NaN</td>\n",
              "      <td>NaN</td>\n",
              "      <td>NaN</td>\n",
              "    </tr>\n",
              "    <tr>\n",
              "      <th>utter_electronics_or_clothing</th>\n",
              "      <td>What would you prefered clothing or electronics</td>\n",
              "      <td>NaN</td>\n",
              "      <td>NaN</td>\n",
              "      <td>NaN</td>\n",
              "      <td>NaN</td>\n",
              "      <td>NaN</td>\n",
              "    </tr>\n",
              "    <tr>\n",
              "      <th>mobile</th>\n",
              "      <td>/mobile</td>\n",
              "      <td>NaN</td>\n",
              "      <td>NaN</td>\n",
              "      <td>utter_mobile</td>\n",
              "      <td>We have different brand of mobile phones</td>\n",
              "      <td>what would you prefered?</td>\n",
              "    </tr>\n",
              "    <tr>\n",
              "      <th>greet</th>\n",
              "      <td>/greet</td>\n",
              "      <td>NaN</td>\n",
              "      <td>NaN</td>\n",
              "      <td>utter_botgreet</td>\n",
              "      <td>Welcome to our shop</td>\n",
              "      <td>how can i help you sir?</td>\n",
              "    </tr>\n",
              "    <tr>\n",
              "      <th>...</th>\n",
              "      <td>...</td>\n",
              "      <td>...</td>\n",
              "      <td>...</td>\n",
              "      <td>...</td>\n",
              "      <td>...</td>\n",
              "      <td>...</td>\n",
              "    </tr>\n",
              "    <tr>\n",
              "      <th>paypal</th>\n",
              "      <td>/paypal</td>\n",
              "      <td>NaN</td>\n",
              "      <td>NaN</td>\n",
              "      <td>utter_paypal</td>\n",
              "      <td>Please give me your email?we will contact with...</td>\n",
              "      <td>NaN</td>\n",
              "    </tr>\n",
              "    <tr>\n",
              "      <th>utter_ask_email</th>\n",
              "      <td>What is your email id?</td>\n",
              "      <td>NaN</td>\n",
              "      <td>NaN</td>\n",
              "      <td>NaN</td>\n",
              "      <td>NaN</td>\n",
              "      <td>NaN</td>\n",
              "    </tr>\n",
              "    <tr>\n",
              "      <th>email</th>\n",
              "      <td>nomansiddique719@gmail.com</td>\n",
              "      <td>email</td>\n",
              "      <td>nomansiddique719@gmail.com</td>\n",
              "      <td>utter_ask_subject</td>\n",
              "      <td>Please provide the subject for your email.</td>\n",
              "      <td>NaN</td>\n",
              "    </tr>\n",
              "    <tr>\n",
              "      <th>buy</th>\n",
              "      <td>buy product</td>\n",
              "      <td>NaN</td>\n",
              "      <td>NaN</td>\n",
              "      <td>utter_ask_message</td>\n",
              "      <td>Please provide the message you want to send?</td>\n",
              "      <td>NaN</td>\n",
              "    </tr>\n",
              "    <tr>\n",
              "      <th>what_do_you_have</th>\n",
              "      <td>i need some details about this product</td>\n",
              "      <td>NaN</td>\n",
              "      <td>NaN</td>\n",
              "      <td>NaN</td>\n",
              "      <td>NaN</td>\n",
              "      <td>NaN</td>\n",
              "    </tr>\n",
              "  </tbody>\n",
              "</table>\n",
              "<p>370 rows × 6 columns</p>\n",
              "</div>"
            ],
            "text/plain": [
              "                                                                        intent  ...                  bot_reply\n",
              "greet                                                                   /greet  ...   how can i help you sir? \n",
              "utter_multiple                                          We have multiple items  ...                        NaN\n",
              "utter_electronics_or_clothing  What would you prefered clothing or electronics  ...                        NaN\n",
              "mobile                                                                 /mobile  ...   what would you prefered?\n",
              "greet                                                                   /greet  ...   how can i help you sir? \n",
              "...                                                                        ...  ...                        ...\n",
              "paypal                                                                 /paypal  ...                        NaN\n",
              "utter_ask_email                                         What is your email id?  ...                        NaN\n",
              "email                                               nomansiddique719@gmail.com  ...                        NaN\n",
              "buy                                                                buy product  ...                        NaN\n",
              "what_do_you_have                        i need some details about this product  ...                        NaN\n",
              "\n",
              "[370 rows x 6 columns]"
            ]
          },
          "metadata": {},
          "execution_count": 1
        }
      ]
    },
    {
      "cell_type": "code",
      "metadata": {
        "id": "eLSguivh9VZE"
      },
      "source": [
        "df.drop(columns=['entity_value','action','bot_reply','user_input','entity_name'],inplace=True)"
      ],
      "execution_count": 3,
      "outputs": []
    },
    {
      "cell_type": "code",
      "metadata": {
        "colab": {
          "base_uri": "https://localhost:8080/",
          "height": 419
        },
        "id": "_Sg04RK99kpQ",
        "outputId": "3ab2be72-689c-484d-c11c-ea7025f07d44"
      },
      "source": [
        "df"
      ],
      "execution_count": 4,
      "outputs": [
        {
          "output_type": "execute_result",
          "data": {
            "text/html": [
              "<div>\n",
              "<style scoped>\n",
              "    .dataframe tbody tr th:only-of-type {\n",
              "        vertical-align: middle;\n",
              "    }\n",
              "\n",
              "    .dataframe tbody tr th {\n",
              "        vertical-align: top;\n",
              "    }\n",
              "\n",
              "    .dataframe thead th {\n",
              "        text-align: right;\n",
              "    }\n",
              "</style>\n",
              "<table border=\"1\" class=\"dataframe\">\n",
              "  <thead>\n",
              "    <tr style=\"text-align: right;\">\n",
              "      <th></th>\n",
              "      <th>intent</th>\n",
              "    </tr>\n",
              "  </thead>\n",
              "  <tbody>\n",
              "    <tr>\n",
              "      <th>greet</th>\n",
              "      <td>/greet</td>\n",
              "    </tr>\n",
              "    <tr>\n",
              "      <th>utter_multiple</th>\n",
              "      <td>We have multiple items</td>\n",
              "    </tr>\n",
              "    <tr>\n",
              "      <th>utter_electronics_or_clothing</th>\n",
              "      <td>What would you prefered clothing or electronics</td>\n",
              "    </tr>\n",
              "    <tr>\n",
              "      <th>mobile</th>\n",
              "      <td>/mobile</td>\n",
              "    </tr>\n",
              "    <tr>\n",
              "      <th>greet</th>\n",
              "      <td>/greet</td>\n",
              "    </tr>\n",
              "    <tr>\n",
              "      <th>...</th>\n",
              "      <td>...</td>\n",
              "    </tr>\n",
              "    <tr>\n",
              "      <th>paypal</th>\n",
              "      <td>/paypal</td>\n",
              "    </tr>\n",
              "    <tr>\n",
              "      <th>utter_ask_email</th>\n",
              "      <td>What is your email id?</td>\n",
              "    </tr>\n",
              "    <tr>\n",
              "      <th>email</th>\n",
              "      <td>nomansiddique719@gmail.com</td>\n",
              "    </tr>\n",
              "    <tr>\n",
              "      <th>buy</th>\n",
              "      <td>buy product</td>\n",
              "    </tr>\n",
              "    <tr>\n",
              "      <th>what_do_you_have</th>\n",
              "      <td>i need some details about this product</td>\n",
              "    </tr>\n",
              "  </tbody>\n",
              "</table>\n",
              "<p>370 rows × 1 columns</p>\n",
              "</div>"
            ],
            "text/plain": [
              "                                                                        intent\n",
              "greet                                                                   /greet\n",
              "utter_multiple                                          We have multiple items\n",
              "utter_electronics_or_clothing  What would you prefered clothing or electronics\n",
              "mobile                                                                 /mobile\n",
              "greet                                                                   /greet\n",
              "...                                                                        ...\n",
              "paypal                                                                 /paypal\n",
              "utter_ask_email                                         What is your email id?\n",
              "email                                               nomansiddique719@gmail.com\n",
              "buy                                                                buy product\n",
              "what_do_you_have                        i need some details about this product\n",
              "\n",
              "[370 rows x 1 columns]"
            ]
          },
          "metadata": {},
          "execution_count": 4
        }
      ]
    },
    {
      "cell_type": "code",
      "metadata": {
        "colab": {
          "base_uri": "https://localhost:8080/",
          "height": 419
        },
        "id": "wjmtv7Oj9rgK",
        "outputId": "f25e490a-e642-40bb-ca10-9d8a9e445032"
      },
      "source": [
        "df1=df.dropna()\n",
        "df1"
      ],
      "execution_count": 5,
      "outputs": [
        {
          "output_type": "execute_result",
          "data": {
            "text/html": [
              "<div>\n",
              "<style scoped>\n",
              "    .dataframe tbody tr th:only-of-type {\n",
              "        vertical-align: middle;\n",
              "    }\n",
              "\n",
              "    .dataframe tbody tr th {\n",
              "        vertical-align: top;\n",
              "    }\n",
              "\n",
              "    .dataframe thead th {\n",
              "        text-align: right;\n",
              "    }\n",
              "</style>\n",
              "<table border=\"1\" class=\"dataframe\">\n",
              "  <thead>\n",
              "    <tr style=\"text-align: right;\">\n",
              "      <th></th>\n",
              "      <th>intent</th>\n",
              "    </tr>\n",
              "  </thead>\n",
              "  <tbody>\n",
              "    <tr>\n",
              "      <th>greet</th>\n",
              "      <td>/greet</td>\n",
              "    </tr>\n",
              "    <tr>\n",
              "      <th>utter_multiple</th>\n",
              "      <td>We have multiple items</td>\n",
              "    </tr>\n",
              "    <tr>\n",
              "      <th>utter_electronics_or_clothing</th>\n",
              "      <td>What would you prefered clothing or electronics</td>\n",
              "    </tr>\n",
              "    <tr>\n",
              "      <th>mobile</th>\n",
              "      <td>/mobile</td>\n",
              "    </tr>\n",
              "    <tr>\n",
              "      <th>greet</th>\n",
              "      <td>/greet</td>\n",
              "    </tr>\n",
              "    <tr>\n",
              "      <th>...</th>\n",
              "      <td>...</td>\n",
              "    </tr>\n",
              "    <tr>\n",
              "      <th>paypal</th>\n",
              "      <td>/paypal</td>\n",
              "    </tr>\n",
              "    <tr>\n",
              "      <th>utter_ask_email</th>\n",
              "      <td>What is your email id?</td>\n",
              "    </tr>\n",
              "    <tr>\n",
              "      <th>email</th>\n",
              "      <td>nomansiddique719@gmail.com</td>\n",
              "    </tr>\n",
              "    <tr>\n",
              "      <th>buy</th>\n",
              "      <td>buy product</td>\n",
              "    </tr>\n",
              "    <tr>\n",
              "      <th>what_do_you_have</th>\n",
              "      <td>i need some details about this product</td>\n",
              "    </tr>\n",
              "  </tbody>\n",
              "</table>\n",
              "<p>290 rows × 1 columns</p>\n",
              "</div>"
            ],
            "text/plain": [
              "                                                                        intent\n",
              "greet                                                                   /greet\n",
              "utter_multiple                                          We have multiple items\n",
              "utter_electronics_or_clothing  What would you prefered clothing or electronics\n",
              "mobile                                                                 /mobile\n",
              "greet                                                                   /greet\n",
              "...                                                                        ...\n",
              "paypal                                                                 /paypal\n",
              "utter_ask_email                                         What is your email id?\n",
              "email                                               nomansiddique719@gmail.com\n",
              "buy                                                                buy product\n",
              "what_do_you_have                        i need some details about this product\n",
              "\n",
              "[290 rows x 1 columns]"
            ]
          },
          "metadata": {},
          "execution_count": 5
        }
      ]
    },
    {
      "cell_type": "code",
      "metadata": {
        "colab": {
          "base_uri": "https://localhost:8080/"
        },
        "id": "KYE-Y4tA9xXa",
        "outputId": "a15dcc5d-8b39-40a2-9f17-67c6daa6ee4d"
      },
      "source": [
        "import nltk\n",
        "nltk.download('punkt')"
      ],
      "execution_count": 6,
      "outputs": [
        {
          "output_type": "stream",
          "text": [
            "[nltk_data] Downloading package punkt to /root/nltk_data...\n",
            "[nltk_data]   Unzipping tokenizers/punkt.zip.\n"
          ],
          "name": "stdout"
        },
        {
          "output_type": "execute_result",
          "data": {
            "text/plain": [
              "True"
            ]
          },
          "metadata": {},
          "execution_count": 6
        }
      ]
    },
    {
      "cell_type": "code",
      "metadata": {
        "colab": {
          "base_uri": "https://localhost:8080/",
          "height": 137
        },
        "id": "eNO12yu1908h",
        "outputId": "5827f7b4-3d48-4a52-dfcc-7b71438685f4"
      },
      "source": [
        "import re\n",
        "letters_only = re.sub(\"[^a-zA-Z]\",\" \",str(df1))\n",
        "letters_only"
      ],
      "execution_count": 7,
      "outputs": [
        {
          "output_type": "execute_result",
          "data": {
            "application/vnd.google.colaboratory.intrinsic+json": {
              "type": "string"
            },
            "text/plain": [
              "'                                                                        intent greet                                                                    greet utter multiple                                          We have multiple items utter electronics or clothing  What would you prefered clothing or electronics mobile                                                                  mobile greet                                                                    greet                                                                                paypal                                                                  paypal utter ask email                                         What is your email id  email                                               nomansiddique    gmail com buy                                                                buy product what do you have                        i need some details about this product       rows x   columns '"
            ]
          },
          "metadata": {},
          "execution_count": 7
        }
      ]
    },
    {
      "cell_type": "code",
      "metadata": {
        "colab": {
          "base_uri": "https://localhost:8080/"
        },
        "id": "TfTIZe3N942k",
        "outputId": "7cdb09e2-6ea1-497f-d178-3f644f3d1290"
      },
      "source": [
        "sentences = nltk.sent_tokenize(letters_only)\n",
        "sentences"
      ],
      "execution_count": 8,
      "outputs": [
        {
          "output_type": "execute_result",
          "data": {
            "text/plain": [
              "['                                                                        intent greet                                                                    greet utter multiple                                          We have multiple items utter electronics or clothing  What would you prefered clothing or electronics mobile                                                                  mobile greet                                                                    greet                                                                                paypal                                                                  paypal utter ask email                                         What is your email id  email                                               nomansiddique    gmail com buy                                                                buy product what do you have                        i need some details about this product       rows x   columns']"
            ]
          },
          "metadata": {},
          "execution_count": 8
        }
      ]
    },
    {
      "cell_type": "code",
      "metadata": {
        "colab": {
          "base_uri": "https://localhost:8080/"
        },
        "id": "VRbfOBRi-E7J",
        "outputId": "148d5a9b-be29-4f80-a9be-0c18e8fccf26"
      },
      "source": [
        "words = nltk.word_tokenize(letters_only)\n",
        "words"
      ],
      "execution_count": 9,
      "outputs": [
        {
          "output_type": "execute_result",
          "data": {
            "text/plain": [
              "['intent',\n",
              " 'greet',\n",
              " 'greet',\n",
              " 'utter',\n",
              " 'multiple',\n",
              " 'We',\n",
              " 'have',\n",
              " 'multiple',\n",
              " 'items',\n",
              " 'utter',\n",
              " 'electronics',\n",
              " 'or',\n",
              " 'clothing',\n",
              " 'What',\n",
              " 'would',\n",
              " 'you',\n",
              " 'prefered',\n",
              " 'clothing',\n",
              " 'or',\n",
              " 'electronics',\n",
              " 'mobile',\n",
              " 'mobile',\n",
              " 'greet',\n",
              " 'greet',\n",
              " 'paypal',\n",
              " 'paypal',\n",
              " 'utter',\n",
              " 'ask',\n",
              " 'email',\n",
              " 'What',\n",
              " 'is',\n",
              " 'your',\n",
              " 'email',\n",
              " 'id',\n",
              " 'email',\n",
              " 'nomansiddique',\n",
              " 'gmail',\n",
              " 'com',\n",
              " 'buy',\n",
              " 'buy',\n",
              " 'product',\n",
              " 'what',\n",
              " 'do',\n",
              " 'you',\n",
              " 'have',\n",
              " 'i',\n",
              " 'need',\n",
              " 'some',\n",
              " 'details',\n",
              " 'about',\n",
              " 'this',\n",
              " 'product',\n",
              " 'rows',\n",
              " 'x',\n",
              " 'columns']"
            ]
          },
          "metadata": {},
          "execution_count": 9
        }
      ]
    },
    {
      "cell_type": "code",
      "metadata": {
        "colab": {
          "base_uri": "https://localhost:8080/"
        },
        "id": "2LGH8lNM-dA7",
        "outputId": "e6ce7024-a915-42a8-9caa-97ae417a286f"
      },
      "source": [
        "sentence=' '\n",
        "sentence=sentence.join(words)\n",
        "print(sentence)"
      ],
      "execution_count": 10,
      "outputs": [
        {
          "output_type": "stream",
          "text": [
            "intent greet greet utter multiple We have multiple items utter electronics or clothing What would you prefered clothing or electronics mobile mobile greet greet paypal paypal utter ask email What is your email id email nomansiddique gmail com buy buy product what do you have i need some details about this product rows x columns\n"
          ],
          "name": "stdout"
        }
      ]
    },
    {
      "cell_type": "code",
      "metadata": {
        "colab": {
          "base_uri": "https://localhost:8080/"
        },
        "id": "eHYUY6WZ-vib",
        "outputId": "6c6fb005-0d66-4900-9578-d39a320164d1"
      },
      "source": [
        "import nltk\n",
        "nltk.download('vader_lexicon')\n",
        "nltk.download('punkt')"
      ],
      "execution_count": 11,
      "outputs": [
        {
          "output_type": "stream",
          "text": [
            "[nltk_data] Downloading package vader_lexicon to /root/nltk_data...\n",
            "[nltk_data] Downloading package punkt to /root/nltk_data...\n",
            "[nltk_data]   Package punkt is already up-to-date!\n"
          ],
          "name": "stdout"
        },
        {
          "output_type": "execute_result",
          "data": {
            "text/plain": [
              "True"
            ]
          },
          "metadata": {},
          "execution_count": 11
        }
      ]
    },
    {
      "cell_type": "code",
      "metadata": {
        "id": "pII4qxq2-y70"
      },
      "source": [
        "from nltk.sentiment.vader import SentimentIntensityAnalyzer\n",
        "\n",
        "sid=SentimentIntensityAnalyzer()\n",
        "scores=sid.polarity_scores(sentence)"
      ],
      "execution_count": 13,
      "outputs": []
    },
    {
      "cell_type": "code",
      "metadata": {
        "colab": {
          "base_uri": "https://localhost:8080/"
        },
        "id": "iRzHjVX9-7UJ",
        "outputId": "f6b748ae-6d09-482a-f8c5-42658d8280ef"
      },
      "source": [
        "print(\"Positive: \"+str(round(scores['pos']*100,2))+\"%\")\n",
        "print(\"Negative: \"+str(round(scores['neg']*100,2))+\"%\")\n",
        "print(\"Neutral: \"+str(round(scores['neu']*100,2))+\"%\")"
      ],
      "execution_count": 14,
      "outputs": [
        {
          "output_type": "stream",
          "text": [
            "Positive: 15.8%\n",
            "Negative: 0.0%\n",
            "Neutral: 84.2%\n"
          ],
          "name": "stdout"
        }
      ]
    }
  ]
}