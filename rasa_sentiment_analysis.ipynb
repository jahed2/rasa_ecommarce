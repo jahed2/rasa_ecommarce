{
 "cells": [
  {
   "cell_type": "code",
   "execution_count": 2,
   "metadata": {},
   "outputs": [
    {
     "name": "stderr",
     "output_type": "stream",
     "text": [
      "b'Skipping line 5: expected 7 fields, saw 9\\nSkipping line 10: expected 7 fields, saw 9\\n'\n"
     ]
    },
    {
     "data": {
      "text/html": [
       "<div>\n",
       "<style scoped>\n",
       "    .dataframe tbody tr th:only-of-type {\n",
       "        vertical-align: middle;\n",
       "    }\n",
       "\n",
       "    .dataframe tbody tr th {\n",
       "        vertical-align: top;\n",
       "    }\n",
       "\n",
       "    .dataframe thead th {\n",
       "        text-align: right;\n",
       "    }\n",
       "</style>\n",
       "<table border=\"1\" class=\"dataframe\">\n",
       "  <thead>\n",
       "    <tr style=\"text-align: right;\">\n",
       "      <th></th>\n",
       "      <th>intent</th>\n",
       "      <th>user_input</th>\n",
       "      <th>entity_name</th>\n",
       "      <th>entity_value</th>\n",
       "      <th>action</th>\n",
       "      <th>bot_reply</th>\n",
       "    </tr>\n",
       "  </thead>\n",
       "  <tbody>\n",
       "    <tr>\n",
       "      <td>greet</td>\n",
       "      <td>/greet</td>\n",
       "      <td>NaN</td>\n",
       "      <td>NaN</td>\n",
       "      <td>utter_botgreet</td>\n",
       "      <td>Welcome to our shop</td>\n",
       "      <td>how can i help you sir?</td>\n",
       "    </tr>\n",
       "    <tr>\n",
       "      <td>utter_multiple</td>\n",
       "      <td>We have multiple items</td>\n",
       "      <td>NaN</td>\n",
       "      <td>NaN</td>\n",
       "      <td>NaN</td>\n",
       "      <td>NaN</td>\n",
       "      <td>NaN</td>\n",
       "    </tr>\n",
       "    <tr>\n",
       "      <td>utter_electronics_or_clothing</td>\n",
       "      <td>What would you prefered clothing or electronics</td>\n",
       "      <td>NaN</td>\n",
       "      <td>NaN</td>\n",
       "      <td>NaN</td>\n",
       "      <td>NaN</td>\n",
       "      <td>NaN</td>\n",
       "    </tr>\n",
       "    <tr>\n",
       "      <td>mobile</td>\n",
       "      <td>/mobile</td>\n",
       "      <td>NaN</td>\n",
       "      <td>NaN</td>\n",
       "      <td>utter_mobile</td>\n",
       "      <td>We have different brand of mobile phones</td>\n",
       "      <td>what would you prefered?</td>\n",
       "    </tr>\n",
       "    <tr>\n",
       "      <td>greet</td>\n",
       "      <td>/greet</td>\n",
       "      <td>NaN</td>\n",
       "      <td>NaN</td>\n",
       "      <td>utter_botgreet</td>\n",
       "      <td>Welcome to our shop</td>\n",
       "      <td>how can i help you sir?</td>\n",
       "    </tr>\n",
       "    <tr>\n",
       "      <td>utter_multiple</td>\n",
       "      <td>We have multiple items</td>\n",
       "      <td>NaN</td>\n",
       "      <td>NaN</td>\n",
       "      <td>NaN</td>\n",
       "      <td>NaN</td>\n",
       "      <td>NaN</td>\n",
       "    </tr>\n",
       "    <tr>\n",
       "      <td>utter_electronics_or_clothing</td>\n",
       "      <td>What would you prefered clothing or electronics</td>\n",
       "      <td>NaN</td>\n",
       "      <td>NaN</td>\n",
       "      <td>NaN</td>\n",
       "      <td>NaN</td>\n",
       "      <td>NaN</td>\n",
       "    </tr>\n",
       "    <tr>\n",
       "      <td>mobile</td>\n",
       "      <td>/mobile</td>\n",
       "      <td>NaN</td>\n",
       "      <td>NaN</td>\n",
       "      <td>utter_mobile</td>\n",
       "      <td>We have different brand of mobile phones</td>\n",
       "      <td>what would you prefered?</td>\n",
       "    </tr>\n",
       "  </tbody>\n",
       "</table>\n",
       "</div>"
      ],
      "text/plain": [
       "                                                                        intent  \\\n",
       "greet                                                                   /greet   \n",
       "utter_multiple                                          We have multiple items   \n",
       "utter_electronics_or_clothing  What would you prefered clothing or electronics   \n",
       "mobile                                                                 /mobile   \n",
       "greet                                                                   /greet   \n",
       "utter_multiple                                          We have multiple items   \n",
       "utter_electronics_or_clothing  What would you prefered clothing or electronics   \n",
       "mobile                                                                 /mobile   \n",
       "\n",
       "                               user_input  entity_name    entity_value  \\\n",
       "greet                                 NaN          NaN  utter_botgreet   \n",
       "utter_multiple                        NaN          NaN             NaN   \n",
       "utter_electronics_or_clothing         NaN          NaN             NaN   \n",
       "mobile                                NaN          NaN    utter_mobile   \n",
       "greet                                 NaN          NaN  utter_botgreet   \n",
       "utter_multiple                        NaN          NaN             NaN   \n",
       "utter_electronics_or_clothing         NaN          NaN             NaN   \n",
       "mobile                                NaN          NaN    utter_mobile   \n",
       "\n",
       "                                                                 action  \\\n",
       "greet                                               Welcome to our shop   \n",
       "utter_multiple                                                      NaN   \n",
       "utter_electronics_or_clothing                                       NaN   \n",
       "mobile                         We have different brand of mobile phones   \n",
       "greet                                               Welcome to our shop   \n",
       "utter_multiple                                                      NaN   \n",
       "utter_electronics_or_clothing                                       NaN   \n",
       "mobile                         We have different brand of mobile phones   \n",
       "\n",
       "                                               bot_reply  \n",
       "greet                           how can i help you sir?   \n",
       "utter_multiple                                       NaN  \n",
       "utter_electronics_or_clothing                        NaN  \n",
       "mobile                          what would you prefered?  \n",
       "greet                           how can i help you sir?   \n",
       "utter_multiple                                       NaN  \n",
       "utter_electronics_or_clothing                        NaN  \n",
       "mobile                          what would you prefered?  "
      ]
     },
     "execution_count": 2,
     "metadata": {},
     "output_type": "execute_result"
    }
   ],
   "source": [
    "import pandas as pd\n",
    "#local directory df\n",
    "df= pd.read_csv('chats.csv',error_bad_lines=False)\n",
    "df.head(10)"
   ]
  },
  {
   "cell_type": "code",
   "execution_count": 13,
   "metadata": {},
   "outputs": [
    {
     "data": {
      "text/plain": [
       "(8, 6)"
      ]
     },
     "execution_count": 13,
     "metadata": {},
     "output_type": "execute_result"
    }
   ],
   "source": [
    "df.shape"
   ]
  },
  {
   "cell_type": "code",
   "execution_count": 14,
   "metadata": {},
   "outputs": [
    {
     "data": {
      "text/plain": [
       "<bound method DataFrame.info of                                                                         intent  \\\n",
       "greet                                                                   /greet   \n",
       "utter_multiple                                          We have multiple items   \n",
       "utter_electronics_or_clothing  What would you prefered clothing or electronics   \n",
       "mobile                                                                 /mobile   \n",
       "greet                                                                   /greet   \n",
       "utter_multiple                                          We have multiple items   \n",
       "utter_electronics_or_clothing  What would you prefered clothing or electronics   \n",
       "mobile                                                                 /mobile   \n",
       "\n",
       "                               user_input  entity_name    entity_value  \\\n",
       "greet                                 NaN          NaN  utter_botgreet   \n",
       "utter_multiple                        NaN          NaN             NaN   \n",
       "utter_electronics_or_clothing         NaN          NaN             NaN   \n",
       "mobile                                NaN          NaN    utter_mobile   \n",
       "greet                                 NaN          NaN  utter_botgreet   \n",
       "utter_multiple                        NaN          NaN             NaN   \n",
       "utter_electronics_or_clothing         NaN          NaN             NaN   \n",
       "mobile                                NaN          NaN    utter_mobile   \n",
       "\n",
       "                                                                 action  \\\n",
       "greet                                               Welcome to our shop   \n",
       "utter_multiple                                                      NaN   \n",
       "utter_electronics_or_clothing                                       NaN   \n",
       "mobile                         We have different brand of mobile phones   \n",
       "greet                                               Welcome to our shop   \n",
       "utter_multiple                                                      NaN   \n",
       "utter_electronics_or_clothing                                       NaN   \n",
       "mobile                         We have different brand of mobile phones   \n",
       "\n",
       "                                               bot_reply  \n",
       "greet                           how can i help you sir?   \n",
       "utter_multiple                                       NaN  \n",
       "utter_electronics_or_clothing                        NaN  \n",
       "mobile                          what would you prefered?  \n",
       "greet                           how can i help you sir?   \n",
       "utter_multiple                                       NaN  \n",
       "utter_electronics_or_clothing                        NaN  \n",
       "mobile                          what would you prefered?  >"
      ]
     },
     "execution_count": 14,
     "metadata": {},
     "output_type": "execute_result"
    }
   ],
   "source": [
    "df.info"
   ]
  },
  {
   "cell_type": "code",
   "execution_count": 15,
   "metadata": {},
   "outputs": [
    {
     "data": {
      "text/html": [
       "<div>\n",
       "<style scoped>\n",
       "    .dataframe tbody tr th:only-of-type {\n",
       "        vertical-align: middle;\n",
       "    }\n",
       "\n",
       "    .dataframe tbody tr th {\n",
       "        vertical-align: top;\n",
       "    }\n",
       "\n",
       "    .dataframe thead th {\n",
       "        text-align: right;\n",
       "    }\n",
       "</style>\n",
       "<table border=\"1\" class=\"dataframe\">\n",
       "  <thead>\n",
       "    <tr style=\"text-align: right;\">\n",
       "      <th></th>\n",
       "      <th>count</th>\n",
       "      <th>mean</th>\n",
       "      <th>std</th>\n",
       "      <th>min</th>\n",
       "      <th>25%</th>\n",
       "      <th>50%</th>\n",
       "      <th>75%</th>\n",
       "      <th>max</th>\n",
       "    </tr>\n",
       "  </thead>\n",
       "  <tbody>\n",
       "    <tr>\n",
       "      <td>user_input</td>\n",
       "      <td>0.0</td>\n",
       "      <td>NaN</td>\n",
       "      <td>NaN</td>\n",
       "      <td>NaN</td>\n",
       "      <td>NaN</td>\n",
       "      <td>NaN</td>\n",
       "      <td>NaN</td>\n",
       "      <td>NaN</td>\n",
       "    </tr>\n",
       "    <tr>\n",
       "      <td>entity_name</td>\n",
       "      <td>0.0</td>\n",
       "      <td>NaN</td>\n",
       "      <td>NaN</td>\n",
       "      <td>NaN</td>\n",
       "      <td>NaN</td>\n",
       "      <td>NaN</td>\n",
       "      <td>NaN</td>\n",
       "      <td>NaN</td>\n",
       "    </tr>\n",
       "  </tbody>\n",
       "</table>\n",
       "</div>"
      ],
      "text/plain": [
       "             count  mean  std  min  25%  50%  75%  max\n",
       "user_input     0.0   NaN  NaN  NaN  NaN  NaN  NaN  NaN\n",
       "entity_name    0.0   NaN  NaN  NaN  NaN  NaN  NaN  NaN"
      ]
     },
     "execution_count": 15,
     "metadata": {},
     "output_type": "execute_result"
    }
   ],
   "source": [
    "df.describe().transpose()"
   ]
  },
  {
   "cell_type": "code",
   "execution_count": 16,
   "metadata": {},
   "outputs": [
    {
     "data": {
      "text/plain": [
       "entity_name     8\n",
       "user_input      8\n",
       "bot_reply       4\n",
       "action          4\n",
       "entity_value    4\n",
       "intent          0\n",
       "dtype: int64"
      ]
     },
     "execution_count": 16,
     "metadata": {},
     "output_type": "execute_result"
    }
   ],
   "source": [
    "count  = df.isnull().sum().sort_values(ascending=False)\n",
    "count"
   ]
  },
  {
   "cell_type": "code",
   "execution_count": 17,
   "metadata": {},
   "outputs": [
    {
     "data": {
      "text/plain": [
       "entity_name     100.0\n",
       "user_input      100.0\n",
       "bot_reply        50.0\n",
       "action           50.0\n",
       "entity_value     50.0\n",
       "intent            0.0\n",
       "dtype: float64"
      ]
     },
     "execution_count": 17,
     "metadata": {},
     "output_type": "execute_result"
    }
   ],
   "source": [
    "percentage = ((df.isnull().sum()/len(df)*100)).sort_values(ascending=False)\n",
    "percentage"
   ]
  },
  {
   "cell_type": "code",
   "execution_count": 18,
   "metadata": {},
   "outputs": [
    {
     "data": {
      "text/plain": [
       "8"
      ]
     },
     "execution_count": 18,
     "metadata": {},
     "output_type": "execute_result"
    }
   ],
   "source": [
    "len(df)"
   ]
  },
  {
   "cell_type": "code",
   "execution_count": 19,
   "metadata": {},
   "outputs": [
    {
     "data": {
      "text/plain": [
       "entity_name     100.0\n",
       "user_input      100.0\n",
       "bot_reply        50.0\n",
       "action           50.0\n",
       "entity_value     50.0\n",
       "intent            0.0\n",
       "dtype: float64"
      ]
     },
     "execution_count": 19,
     "metadata": {},
     "output_type": "execute_result"
    }
   ],
   "source": [
    "((df.isnull().sum()/len(df))*100).sort_values(ascending=False)"
   ]
  },
  {
   "cell_type": "code",
   "execution_count": 20,
   "metadata": {},
   "outputs": [
    {
     "data": {
      "text/html": [
       "<div>\n",
       "<style scoped>\n",
       "    .dataframe tbody tr th:only-of-type {\n",
       "        vertical-align: middle;\n",
       "    }\n",
       "\n",
       "    .dataframe tbody tr th {\n",
       "        vertical-align: top;\n",
       "    }\n",
       "\n",
       "    .dataframe thead th {\n",
       "        text-align: right;\n",
       "    }\n",
       "</style>\n",
       "<table border=\"1\" class=\"dataframe\">\n",
       "  <thead>\n",
       "    <tr style=\"text-align: right;\">\n",
       "      <th></th>\n",
       "      <th>count</th>\n",
       "      <th>percentage</th>\n",
       "    </tr>\n",
       "  </thead>\n",
       "  <tbody>\n",
       "    <tr>\n",
       "      <td>entity_name</td>\n",
       "      <td>8</td>\n",
       "      <td>100.0</td>\n",
       "    </tr>\n",
       "    <tr>\n",
       "      <td>user_input</td>\n",
       "      <td>8</td>\n",
       "      <td>100.0</td>\n",
       "    </tr>\n",
       "    <tr>\n",
       "      <td>bot_reply</td>\n",
       "      <td>4</td>\n",
       "      <td>50.0</td>\n",
       "    </tr>\n",
       "    <tr>\n",
       "      <td>action</td>\n",
       "      <td>4</td>\n",
       "      <td>50.0</td>\n",
       "    </tr>\n",
       "    <tr>\n",
       "      <td>entity_value</td>\n",
       "      <td>4</td>\n",
       "      <td>50.0</td>\n",
       "    </tr>\n",
       "    <tr>\n",
       "      <td>intent</td>\n",
       "      <td>0</td>\n",
       "      <td>0.0</td>\n",
       "    </tr>\n",
       "  </tbody>\n",
       "</table>\n",
       "</div>"
      ],
      "text/plain": [
       "              count  percentage\n",
       "entity_name       8       100.0\n",
       "user_input        8       100.0\n",
       "bot_reply         4        50.0\n",
       "action            4        50.0\n",
       "entity_value      4        50.0\n",
       "intent            0         0.0"
      ]
     },
     "execution_count": 20,
     "metadata": {},
     "output_type": "execute_result"
    }
   ],
   "source": [
    "missing_data = pd.concat([count,percentage],axis=1,keys=['count','percentage'])\n",
    "missing_data"
   ]
  },
  {
   "cell_type": "code",
   "execution_count": null,
   "metadata": {},
   "outputs": [],
   "source": [
    "import matplotlib.pyplot as plt\n",
    "%matplotlib inline\n",
    "print(\"percentage for default/n\")\n",
    "print(round(df.))"
   ]
  },
  {
   "cell_type": "code",
   "execution_count": 22,
   "metadata": {},
   "outputs": [],
   "source": [
    "#removing column from the dataframe\n",
    "df.drop(columns=['entity_name'],inplace=True)"
   ]
  },
  {
   "cell_type": "code",
   "execution_count": 28,
   "metadata": {},
   "outputs": [
    {
     "data": {
      "text/html": [
       "<div>\n",
       "<style scoped>\n",
       "    .dataframe tbody tr th:only-of-type {\n",
       "        vertical-align: middle;\n",
       "    }\n",
       "\n",
       "    .dataframe tbody tr th {\n",
       "        vertical-align: top;\n",
       "    }\n",
       "\n",
       "    .dataframe thead th {\n",
       "        text-align: right;\n",
       "    }\n",
       "</style>\n",
       "<table border=\"1\" class=\"dataframe\">\n",
       "  <thead>\n",
       "    <tr style=\"text-align: right;\">\n",
       "      <th></th>\n",
       "      <th>intent</th>\n",
       "      <th>user_input</th>\n",
       "      <th>entity_value</th>\n",
       "      <th>action</th>\n",
       "      <th>bot_reply</th>\n",
       "    </tr>\n",
       "  </thead>\n",
       "  <tbody>\n",
       "    <tr>\n",
       "      <td>greet</td>\n",
       "      <td>/greet</td>\n",
       "      <td>NaN</td>\n",
       "      <td>utter_botgreet</td>\n",
       "      <td>Welcome to our shop</td>\n",
       "      <td>how can i help you sir?</td>\n",
       "    </tr>\n",
       "    <tr>\n",
       "      <td>utter_multiple</td>\n",
       "      <td>We have multiple items</td>\n",
       "      <td>NaN</td>\n",
       "      <td>NaN</td>\n",
       "      <td>NaN</td>\n",
       "      <td>NaN</td>\n",
       "    </tr>\n",
       "    <tr>\n",
       "      <td>utter_electronics_or_clothing</td>\n",
       "      <td>What would you prefered clothing or electronics</td>\n",
       "      <td>NaN</td>\n",
       "      <td>NaN</td>\n",
       "      <td>NaN</td>\n",
       "      <td>NaN</td>\n",
       "    </tr>\n",
       "    <tr>\n",
       "      <td>mobile</td>\n",
       "      <td>/mobile</td>\n",
       "      <td>NaN</td>\n",
       "      <td>utter_mobile</td>\n",
       "      <td>We have different brand of mobile phones</td>\n",
       "      <td>what would you prefered?</td>\n",
       "    </tr>\n",
       "    <tr>\n",
       "      <td>greet</td>\n",
       "      <td>/greet</td>\n",
       "      <td>NaN</td>\n",
       "      <td>utter_botgreet</td>\n",
       "      <td>Welcome to our shop</td>\n",
       "      <td>how can i help you sir?</td>\n",
       "    </tr>\n",
       "    <tr>\n",
       "      <td>utter_multiple</td>\n",
       "      <td>We have multiple items</td>\n",
       "      <td>NaN</td>\n",
       "      <td>NaN</td>\n",
       "      <td>NaN</td>\n",
       "      <td>NaN</td>\n",
       "    </tr>\n",
       "    <tr>\n",
       "      <td>utter_electronics_or_clothing</td>\n",
       "      <td>What would you prefered clothing or electronics</td>\n",
       "      <td>NaN</td>\n",
       "      <td>NaN</td>\n",
       "      <td>NaN</td>\n",
       "      <td>NaN</td>\n",
       "    </tr>\n",
       "    <tr>\n",
       "      <td>mobile</td>\n",
       "      <td>/mobile</td>\n",
       "      <td>NaN</td>\n",
       "      <td>utter_mobile</td>\n",
       "      <td>We have different brand of mobile phones</td>\n",
       "      <td>what would you prefered?</td>\n",
       "    </tr>\n",
       "  </tbody>\n",
       "</table>\n",
       "</div>"
      ],
      "text/plain": [
       "                                                                        intent  \\\n",
       "greet                                                                   /greet   \n",
       "utter_multiple                                          We have multiple items   \n",
       "utter_electronics_or_clothing  What would you prefered clothing or electronics   \n",
       "mobile                                                                 /mobile   \n",
       "greet                                                                   /greet   \n",
       "utter_multiple                                          We have multiple items   \n",
       "utter_electronics_or_clothing  What would you prefered clothing or electronics   \n",
       "mobile                                                                 /mobile   \n",
       "\n",
       "                               user_input    entity_value  \\\n",
       "greet                                 NaN  utter_botgreet   \n",
       "utter_multiple                        NaN             NaN   \n",
       "utter_electronics_or_clothing         NaN             NaN   \n",
       "mobile                                NaN    utter_mobile   \n",
       "greet                                 NaN  utter_botgreet   \n",
       "utter_multiple                        NaN             NaN   \n",
       "utter_electronics_or_clothing         NaN             NaN   \n",
       "mobile                                NaN    utter_mobile   \n",
       "\n",
       "                                                                 action  \\\n",
       "greet                                               Welcome to our shop   \n",
       "utter_multiple                                                      NaN   \n",
       "utter_electronics_or_clothing                                       NaN   \n",
       "mobile                         We have different brand of mobile phones   \n",
       "greet                                               Welcome to our shop   \n",
       "utter_multiple                                                      NaN   \n",
       "utter_electronics_or_clothing                                       NaN   \n",
       "mobile                         We have different brand of mobile phones   \n",
       "\n",
       "                                               bot_reply  \n",
       "greet                           how can i help you sir?   \n",
       "utter_multiple                                       NaN  \n",
       "utter_electronics_or_clothing                        NaN  \n",
       "mobile                          what would you prefered?  \n",
       "greet                           how can i help you sir?   \n",
       "utter_multiple                                       NaN  \n",
       "utter_electronics_or_clothing                        NaN  \n",
       "mobile                          what would you prefered?  "
      ]
     },
     "execution_count": 28,
     "metadata": {},
     "output_type": "execute_result"
    }
   ],
   "source": [
    "df"
   ]
  },
  {
   "cell_type": "code",
   "execution_count": 24,
   "metadata": {},
   "outputs": [],
   "source": [
    "#apply frist level cleaning \n",
    "import re\n",
    "import string\n",
    "def text_clean_1(text):\n",
    "    text = text.lower()\n",
    "    text = re.sub('\\[.*?\\]','',text)\n",
    "    text = re.sub('[%s]'% re.escape(string.punctuation),'',text)\n",
    "    text = re.sub('\\w*\\d\\w','',text)\n",
    "    return text\n",
    "cleaned1 = lambda x:text_clean_1(x)"
   ]
  },
  {
   "cell_type": "code",
   "execution_count": 27,
   "metadata": {},
   "outputs": [
    {
     "ename": "AttributeError",
     "evalue": "'function' object has no attribute 'apply'",
     "output_type": "error",
     "traceback": [
      "\u001b[1;31m---------------------------------------------------------------------------\u001b[0m",
      "\u001b[1;31mAttributeError\u001b[0m                            Traceback (most recent call last)",
      "\u001b[1;32m<ipython-input-27-279e917ed7eb>\u001b[0m in \u001b[0;36m<module>\u001b[1;34m\u001b[0m\n\u001b[0;32m      1\u001b[0m \u001b[1;31m#lets take a look at the update text\u001b[0m\u001b[1;33m\u001b[0m\u001b[1;33m\u001b[0m\u001b[1;33m\u001b[0m\u001b[0m\n\u001b[1;32m----> 2\u001b[1;33m \u001b[0mdf\u001b[0m\u001b[1;33m[\u001b[0m\u001b[1;34m'clean_discription'\u001b[0m\u001b[1;33m]\u001b[0m \u001b[1;33m=\u001b[0m \u001b[0mpd\u001b[0m\u001b[1;33m.\u001b[0m\u001b[0mDataFrame\u001b[0m\u001b[1;33m(\u001b[0m\u001b[0mdf\u001b[0m\u001b[1;33m.\u001b[0m\u001b[0mdescribe\u001b[0m\u001b[1;33m.\u001b[0m\u001b[0mapply\u001b[0m\u001b[1;33m(\u001b[0m\u001b[0mcleaned1\u001b[0m\u001b[1;33m)\u001b[0m\u001b[1;33m)\u001b[0m\u001b[1;33m\u001b[0m\u001b[1;33m\u001b[0m\u001b[0m\n\u001b[0m",
      "\u001b[1;31mAttributeError\u001b[0m: 'function' object has no attribute 'apply'"
     ]
    }
   ],
   "source": [
    "#lets take a look at the update text\n",
    "df['clean_discription'] = pd.DataFrame(df.describe.apply(cleaned1))\n"
   ]
  },
  {
   "cell_type": "code",
   "execution_count": 3,
   "metadata": {},
   "outputs": [
    {
     "name": "stdout",
     "output_type": "stream",
     "text": [
      "25 years\n"
     ]
    }
   ],
   "source": [
    "#\\w return a match at every word character ,character from a to Z number from 0 to 9 and underscore character \n",
    "from datetime import date\n",
    " \n",
    "def calculateAge(birthDate):\n",
    "    today = date.today()\n",
    "    age = today.year - birthDate.year -((today.month, today.day) <(birthDate.month, birthDate.day))\n",
    " \n",
    "    return age\n",
    "     \n",
    "# Driver code\n",
    "print(calculateAge(date(1996, 1, 2)), \"years\")"
   ]
  },
  {
   "cell_type": "code",
   "execution_count": null,
   "metadata": {},
   "outputs": [],
   "source": []
  }
 ],
 "metadata": {
  "kernelspec": {
   "display_name": "Python 3",
   "language": "python",
   "name": "python3"
  },
  "language_info": {
   "codemirror_mode": {
    "name": "ipython",
    "version": 3
   },
   "file_extension": ".py",
   "mimetype": "text/x-python",
   "name": "python",
   "nbconvert_exporter": "python",
   "pygments_lexer": "ipython3",
   "version": "3.7.4"
  }
 },
 "nbformat": 4,
 "nbformat_minor": 2
}
