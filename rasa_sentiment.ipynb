{
  "nbformat": 4,
  "nbformat_minor": 0,
  "metadata": {
    "colab": {
      "name": "rasa_sentiment.ipynb",
      "provenance": [],
      "authorship_tag": "ABX9TyMfhi44OM06L9yjiVI4tRH6",
      "include_colab_link": true
    },
    "kernelspec": {
      "display_name": "Python 3",
      "name": "python3"
    },
    "language_info": {
      "name": "python"
    }
  },
  "cells": [
    {
      "cell_type": "markdown",
      "metadata": {
        "id": "view-in-github",
        "colab_type": "text"
      },
      "source": [
        "<a href=\"https://colab.research.google.com/github/jahed2/rasa_ecommarce/blob/master/rasa_sentiment.ipynb\" target=\"_parent\"><img src=\"https://colab.research.google.com/assets/colab-badge.svg\" alt=\"Open In Colab\"/></a>"
      ]
    },
    {
      "cell_type": "code",
      "metadata": {
        "colab": {
          "base_uri": "https://localhost:8080/",
          "height": 881
        },
        "id": "dU00TsxGaD6f",
        "outputId": "9b2c1d85-b068-4b4e-9f59-ab1f4294d054"
      },
      "source": [
        "import pandas as pd\n",
        "df = pd.read_csv('/content/chats.csv',error_bad_lines=False)\n",
        "df"
      ],
      "execution_count": 32,
      "outputs": [
        {
          "output_type": "stream",
          "text": [
            "b'Skipping line 5: expected 7 fields, saw 9\\nSkipping line 10: expected 7 fields, saw 9\\nSkipping line 15: expected 7 fields, saw 9\\nSkipping line 17: expected 7 fields, saw 10\\nSkipping line 18: expected 7 fields, saw 9\\nSkipping line 19: expected 7 fields, saw 9\\nSkipping line 32: expected 7 fields, saw 9\\nSkipping line 34: expected 7 fields, saw 10\\nSkipping line 35: expected 7 fields, saw 8\\nSkipping line 39: expected 7 fields, saw 9\\nSkipping line 41: expected 7 fields, saw 12\\nSkipping line 45: expected 7 fields, saw 9\\nSkipping line 47: expected 7 fields, saw 10\\nSkipping line 48: expected 7 fields, saw 9\\nSkipping line 49: expected 7 fields, saw 9\\nSkipping line 62: expected 7 fields, saw 9\\nSkipping line 64: expected 7 fields, saw 10\\nSkipping line 65: expected 7 fields, saw 9\\nSkipping line 66: expected 7 fields, saw 9\\nSkipping line 71: expected 7 fields, saw 10\\nSkipping line 80: expected 7 fields, saw 13\\nSkipping line 81: expected 7 fields, saw 10\\nSkipping line 82: expected 7 fields, saw 9\\nSkipping line 83: expected 7 fields, saw 9\\nSkipping line 88: expected 7 fields, saw 10\\nSkipping line 97: expected 7 fields, saw 9\\nSkipping line 99: expected 7 fields, saw 10\\nSkipping line 100: expected 7 fields, saw 9\\nSkipping line 101: expected 7 fields, saw 9\\nSkipping line 106: expected 7 fields, saw 10\\nSkipping line 107: expected 7 fields, saw 11\\nSkipping line 110: expected 7 fields, saw 9\\nSkipping line 112: expected 7 fields, saw 10\\nSkipping line 113: expected 7 fields, saw 9\\nSkipping line 114: expected 7 fields, saw 9\\nSkipping line 119: expected 7 fields, saw 10\\nSkipping line 128: expected 7 fields, saw 9\\nSkipping line 130: expected 7 fields, saw 10\\nSkipping line 131: expected 7 fields, saw 9\\nSkipping line 132: expected 7 fields, saw 9\\nSkipping line 137: expected 7 fields, saw 10\\nSkipping line 146: expected 7 fields, saw 13\\nSkipping line 147: expected 7 fields, saw 10\\nSkipping line 148: expected 7 fields, saw 9\\nSkipping line 149: expected 7 fields, saw 9\\nSkipping line 154: expected 7 fields, saw 19\\nSkipping line 157: expected 7 fields, saw 13\\nSkipping line 158: expected 7 fields, saw 10\\nSkipping line 159: expected 7 fields, saw 9\\nSkipping line 160: expected 7 fields, saw 9\\nSkipping line 165: expected 7 fields, saw 10\\nSkipping line 174: expected 7 fields, saw 13\\nSkipping line 175: expected 7 fields, saw 10\\nSkipping line 176: expected 7 fields, saw 9\\nSkipping line 177: expected 7 fields, saw 9\\nSkipping line 182: expected 7 fields, saw 10\\nSkipping line 189: expected 7 fields, saw 9\\nSkipping line 190: expected 7 fields, saw 9\\nSkipping line 199: expected 7 fields, saw 13\\nSkipping line 200: expected 7 fields, saw 10\\nSkipping line 201: expected 7 fields, saw 9\\nSkipping line 202: expected 7 fields, saw 9\\nSkipping line 207: expected 7 fields, saw 10\\nSkipping line 216: expected 7 fields, saw 9\\nSkipping line 218: expected 7 fields, saw 10\\nSkipping line 219: expected 7 fields, saw 9\\nSkipping line 220: expected 7 fields, saw 9\\nSkipping line 233: expected 7 fields, saw 9\\nSkipping line 235: expected 7 fields, saw 10\\nSkipping line 236: expected 7 fields, saw 9\\nSkipping line 237: expected 7 fields, saw 9\\nSkipping line 251: expected 7 fields, saw 9\\nSkipping line 253: expected 7 fields, saw 10\\nSkipping line 254: expected 7 fields, saw 9\\nSkipping line 255: expected 7 fields, saw 9\\nSkipping line 269: expected 7 fields, saw 9\\nSkipping line 271: expected 7 fields, saw 10\\nSkipping line 272: expected 7 fields, saw 9\\nSkipping line 273: expected 7 fields, saw 9\\nSkipping line 275: expected 7 fields, saw 10\\nSkipping line 286: expected 7 fields, saw 9\\nSkipping line 288: expected 7 fields, saw 10\\nSkipping line 289: expected 7 fields, saw 9\\nSkipping line 290: expected 7 fields, saw 9\\nSkipping line 295: expected 7 fields, saw 10\\nSkipping line 304: expected 7 fields, saw 9\\nSkipping line 306: expected 7 fields, saw 10\\nSkipping line 307: expected 7 fields, saw 9\\nSkipping line 308: expected 7 fields, saw 9\\nSkipping line 312: expected 7 fields, saw 11\\nSkipping line 315: expected 7 fields, saw 9\\nSkipping line 317: expected 7 fields, saw 10\\nSkipping line 318: expected 7 fields, saw 9\\nSkipping line 319: expected 7 fields, saw 9\\nSkipping line 323: expected 7 fields, saw 11\\nSkipping line 326: expected 7 fields, saw 9\\nSkipping line 328: expected 7 fields, saw 10\\nSkipping line 329: expected 7 fields, saw 9\\nSkipping line 330: expected 7 fields, saw 9\\nSkipping line 334: expected 7 fields, saw 11\\nSkipping line 337: expected 7 fields, saw 9\\nSkipping line 339: expected 7 fields, saw 10\\nSkipping line 340: expected 7 fields, saw 9\\nSkipping line 341: expected 7 fields, saw 9\\nSkipping line 345: expected 7 fields, saw 11\\nSkipping line 348: expected 7 fields, saw 9\\nSkipping line 350: expected 7 fields, saw 10\\nSkipping line 351: expected 7 fields, saw 9\\nSkipping line 352: expected 7 fields, saw 9\\nSkipping line 354: expected 7 fields, saw 12\\nSkipping line 358: expected 7 fields, saw 9\\nSkipping line 360: expected 7 fields, saw 10\\nSkipping line 361: expected 7 fields, saw 9\\nSkipping line 362: expected 7 fields, saw 9\\nSkipping line 364: expected 7 fields, saw 12\\nSkipping line 366: expected 7 fields, saw 8\\nSkipping line 370: expected 7 fields, saw 9\\nSkipping line 372: expected 7 fields, saw 10\\nSkipping line 373: expected 7 fields, saw 9\\nSkipping line 374: expected 7 fields, saw 9\\nSkipping line 376: expected 7 fields, saw 12\\nSkipping line 378: expected 7 fields, saw 8\\nSkipping line 382: expected 7 fields, saw 11\\nSkipping line 385: expected 7 fields, saw 9\\nSkipping line 387: expected 7 fields, saw 10\\nSkipping line 388: expected 7 fields, saw 9\\nSkipping line 389: expected 7 fields, saw 9\\nSkipping line 397: expected 7 fields, saw 10\\nSkipping line 400: expected 7 fields, saw 9\\nSkipping line 402: expected 7 fields, saw 10\\nSkipping line 403: expected 7 fields, saw 9\\nSkipping line 404: expected 7 fields, saw 9\\nSkipping line 411: expected 7 fields, saw 10\\nSkipping line 414: expected 7 fields, saw 13\\nSkipping line 415: expected 7 fields, saw 10\\nSkipping line 416: expected 7 fields, saw 9\\nSkipping line 417: expected 7 fields, saw 9\\nSkipping line 426: expected 7 fields, saw 11\\nSkipping line 429: expected 7 fields, saw 13\\nSkipping line 430: expected 7 fields, saw 10\\nSkipping line 431: expected 7 fields, saw 9\\nSkipping line 432: expected 7 fields, saw 9\\nSkipping line 441: expected 7 fields, saw 12\\nSkipping line 445: expected 7 fields, saw 13\\nSkipping line 446: expected 7 fields, saw 10\\nSkipping line 447: expected 7 fields, saw 9\\nSkipping line 448: expected 7 fields, saw 9\\nSkipping line 457: expected 7 fields, saw 12\\nSkipping line 459: expected 7 fields, saw 9\\nSkipping line 460: expected 7 fields, saw 8\\nSkipping line 464: expected 7 fields, saw 13\\nSkipping line 465: expected 7 fields, saw 10\\nSkipping line 466: expected 7 fields, saw 9\\nSkipping line 467: expected 7 fields, saw 9\\nSkipping line 476: expected 7 fields, saw 12\\nSkipping line 478: expected 7 fields, saw 9\\nSkipping line 479: expected 7 fields, saw 8\\nSkipping line 480: expected 7 fields, saw 8\\nSkipping line 484: expected 7 fields, saw 9\\nSkipping line 486: expected 7 fields, saw 10\\nSkipping line 487: expected 7 fields, saw 9\\nSkipping line 488: expected 7 fields, saw 9\\nSkipping line 490: expected 7 fields, saw 10\\nSkipping line 495: expected 7 fields, saw 11\\nSkipping line 498: expected 7 fields, saw 9\\nSkipping line 500: expected 7 fields, saw 10\\nSkipping line 501: expected 7 fields, saw 9\\nSkipping line 502: expected 7 fields, saw 9\\nSkipping line 514: expected 7 fields, saw 9\\nSkipping line 516: expected 7 fields, saw 10\\nSkipping line 517: expected 7 fields, saw 9\\nSkipping line 522: expected 7 fields, saw 11\\nSkipping line 525: expected 7 fields, saw 13\\nSkipping line 526: expected 7 fields, saw 10\\nSkipping line 527: expected 7 fields, saw 9\\n'\n"
          ],
          "name": "stderr"
        },
        {
          "output_type": "execute_result",
          "data": {
            "text/html": [
              "<div>\n",
              "<style scoped>\n",
              "    .dataframe tbody tr th:only-of-type {\n",
              "        vertical-align: middle;\n",
              "    }\n",
              "\n",
              "    .dataframe tbody tr th {\n",
              "        vertical-align: top;\n",
              "    }\n",
              "\n",
              "    .dataframe thead th {\n",
              "        text-align: right;\n",
              "    }\n",
              "</style>\n",
              "<table border=\"1\" class=\"dataframe\">\n",
              "  <thead>\n",
              "    <tr style=\"text-align: right;\">\n",
              "      <th></th>\n",
              "      <th>intent</th>\n",
              "      <th>user_input</th>\n",
              "      <th>entity_name</th>\n",
              "      <th>entity_value</th>\n",
              "      <th>action</th>\n",
              "      <th>bot_reply</th>\n",
              "    </tr>\n",
              "  </thead>\n",
              "  <tbody>\n",
              "    <tr>\n",
              "      <th>greet</th>\n",
              "      <td>/greet</td>\n",
              "      <td>NaN</td>\n",
              "      <td>NaN</td>\n",
              "      <td>utter_botgreet</td>\n",
              "      <td>Welcome to our shop</td>\n",
              "      <td>how can i help you sir?</td>\n",
              "    </tr>\n",
              "    <tr>\n",
              "      <th>utter_multiple</th>\n",
              "      <td>We have multiple items</td>\n",
              "      <td>NaN</td>\n",
              "      <td>NaN</td>\n",
              "      <td>NaN</td>\n",
              "      <td>NaN</td>\n",
              "      <td>NaN</td>\n",
              "    </tr>\n",
              "    <tr>\n",
              "      <th>utter_electronics_or_clothing</th>\n",
              "      <td>What would you prefered clothing or electronics</td>\n",
              "      <td>NaN</td>\n",
              "      <td>NaN</td>\n",
              "      <td>NaN</td>\n",
              "      <td>NaN</td>\n",
              "      <td>NaN</td>\n",
              "    </tr>\n",
              "    <tr>\n",
              "      <th>mobile</th>\n",
              "      <td>/mobile</td>\n",
              "      <td>NaN</td>\n",
              "      <td>NaN</td>\n",
              "      <td>utter_mobile</td>\n",
              "      <td>We have different brand of mobile phones</td>\n",
              "      <td>what would you prefered?</td>\n",
              "    </tr>\n",
              "    <tr>\n",
              "      <th>greet</th>\n",
              "      <td>/greet</td>\n",
              "      <td>NaN</td>\n",
              "      <td>NaN</td>\n",
              "      <td>utter_botgreet</td>\n",
              "      <td>Welcome to our shop</td>\n",
              "      <td>how can i help you sir?</td>\n",
              "    </tr>\n",
              "    <tr>\n",
              "      <th>...</th>\n",
              "      <td>...</td>\n",
              "      <td>...</td>\n",
              "      <td>...</td>\n",
              "      <td>...</td>\n",
              "      <td>...</td>\n",
              "      <td>...</td>\n",
              "    </tr>\n",
              "    <tr>\n",
              "      <th>paypal</th>\n",
              "      <td>/paypal</td>\n",
              "      <td>NaN</td>\n",
              "      <td>NaN</td>\n",
              "      <td>utter_paypal</td>\n",
              "      <td>Please give me your email?we will contact with...</td>\n",
              "      <td>NaN</td>\n",
              "    </tr>\n",
              "    <tr>\n",
              "      <th>utter_ask_email</th>\n",
              "      <td>What is your email id?</td>\n",
              "      <td>NaN</td>\n",
              "      <td>NaN</td>\n",
              "      <td>NaN</td>\n",
              "      <td>NaN</td>\n",
              "      <td>NaN</td>\n",
              "    </tr>\n",
              "    <tr>\n",
              "      <th>email</th>\n",
              "      <td>nafisazabbar@gmail.com</td>\n",
              "      <td>email</td>\n",
              "      <td>nafisazabbar@gmail.com</td>\n",
              "      <td>utter_ask_subject</td>\n",
              "      <td>Please provide the subject for your email.</td>\n",
              "      <td>NaN</td>\n",
              "    </tr>\n",
              "    <tr>\n",
              "      <th>affirm</th>\n",
              "      <td>ok</td>\n",
              "      <td>NaN</td>\n",
              "      <td>NaN</td>\n",
              "      <td>utter_ask_message</td>\n",
              "      <td>Please provide the message you want to send?</td>\n",
              "      <td>NaN</td>\n",
              "    </tr>\n",
              "    <tr>\n",
              "      <th>hoodies</th>\n",
              "      <td>i need hoddies</td>\n",
              "      <td>NaN</td>\n",
              "      <td>NaN</td>\n",
              "      <td>NaN</td>\n",
              "      <td>NaN</td>\n",
              "      <td>NaN</td>\n",
              "    </tr>\n",
              "  </tbody>\n",
              "</table>\n",
              "<p>356 rows × 6 columns</p>\n",
              "</div>"
            ],
            "text/plain": [
              "                                                                        intent  ...                  bot_reply\n",
              "greet                                                                   /greet  ...   how can i help you sir? \n",
              "utter_multiple                                          We have multiple items  ...                        NaN\n",
              "utter_electronics_or_clothing  What would you prefered clothing or electronics  ...                        NaN\n",
              "mobile                                                                 /mobile  ...   what would you prefered?\n",
              "greet                                                                   /greet  ...   how can i help you sir? \n",
              "...                                                                        ...  ...                        ...\n",
              "paypal                                                                 /paypal  ...                        NaN\n",
              "utter_ask_email                                         What is your email id?  ...                        NaN\n",
              "email                                                   nafisazabbar@gmail.com  ...                        NaN\n",
              "affirm                                                                      ok  ...                        NaN\n",
              "hoodies                                                         i need hoddies  ...                        NaN\n",
              "\n",
              "[356 rows x 6 columns]"
            ]
          },
          "metadata": {},
          "execution_count": 32
        }
      ]
    },
    {
      "cell_type": "code",
      "metadata": {
        "id": "R3WUX_NawMRC"
      },
      "source": [
        "df.drop(columns=['entity_value','action','bot_reply','user_input','entity_name'],inplace=True)"
      ],
      "execution_count": 33,
      "outputs": []
    },
    {
      "cell_type": "code",
      "metadata": {
        "colab": {
          "base_uri": "https://localhost:8080/",
          "height": 419
        },
        "id": "zMvDEKoPxVq7",
        "outputId": "4301cea4-fa16-43d2-9150-01c5e1baf39e"
      },
      "source": [
        "df"
      ],
      "execution_count": 34,
      "outputs": [
        {
          "output_type": "execute_result",
          "data": {
            "text/html": [
              "<div>\n",
              "<style scoped>\n",
              "    .dataframe tbody tr th:only-of-type {\n",
              "        vertical-align: middle;\n",
              "    }\n",
              "\n",
              "    .dataframe tbody tr th {\n",
              "        vertical-align: top;\n",
              "    }\n",
              "\n",
              "    .dataframe thead th {\n",
              "        text-align: right;\n",
              "    }\n",
              "</style>\n",
              "<table border=\"1\" class=\"dataframe\">\n",
              "  <thead>\n",
              "    <tr style=\"text-align: right;\">\n",
              "      <th></th>\n",
              "      <th>intent</th>\n",
              "    </tr>\n",
              "  </thead>\n",
              "  <tbody>\n",
              "    <tr>\n",
              "      <th>greet</th>\n",
              "      <td>/greet</td>\n",
              "    </tr>\n",
              "    <tr>\n",
              "      <th>utter_multiple</th>\n",
              "      <td>We have multiple items</td>\n",
              "    </tr>\n",
              "    <tr>\n",
              "      <th>utter_electronics_or_clothing</th>\n",
              "      <td>What would you prefered clothing or electronics</td>\n",
              "    </tr>\n",
              "    <tr>\n",
              "      <th>mobile</th>\n",
              "      <td>/mobile</td>\n",
              "    </tr>\n",
              "    <tr>\n",
              "      <th>greet</th>\n",
              "      <td>/greet</td>\n",
              "    </tr>\n",
              "    <tr>\n",
              "      <th>...</th>\n",
              "      <td>...</td>\n",
              "    </tr>\n",
              "    <tr>\n",
              "      <th>paypal</th>\n",
              "      <td>/paypal</td>\n",
              "    </tr>\n",
              "    <tr>\n",
              "      <th>utter_ask_email</th>\n",
              "      <td>What is your email id?</td>\n",
              "    </tr>\n",
              "    <tr>\n",
              "      <th>email</th>\n",
              "      <td>nafisazabbar@gmail.com</td>\n",
              "    </tr>\n",
              "    <tr>\n",
              "      <th>affirm</th>\n",
              "      <td>ok</td>\n",
              "    </tr>\n",
              "    <tr>\n",
              "      <th>hoodies</th>\n",
              "      <td>i need hoddies</td>\n",
              "    </tr>\n",
              "  </tbody>\n",
              "</table>\n",
              "<p>356 rows × 1 columns</p>\n",
              "</div>"
            ],
            "text/plain": [
              "                                                                        intent\n",
              "greet                                                                   /greet\n",
              "utter_multiple                                          We have multiple items\n",
              "utter_electronics_or_clothing  What would you prefered clothing or electronics\n",
              "mobile                                                                 /mobile\n",
              "greet                                                                   /greet\n",
              "...                                                                        ...\n",
              "paypal                                                                 /paypal\n",
              "utter_ask_email                                         What is your email id?\n",
              "email                                                   nafisazabbar@gmail.com\n",
              "affirm                                                                      ok\n",
              "hoodies                                                         i need hoddies\n",
              "\n",
              "[356 rows x 1 columns]"
            ]
          },
          "metadata": {},
          "execution_count": 34
        }
      ]
    },
    {
      "cell_type": "code",
      "metadata": {
        "colab": {
          "base_uri": "https://localhost:8080/",
          "height": 419
        },
        "id": "OAZclwk5yUpM",
        "outputId": "d3de7cb1-9eb3-4e00-960e-f46724bb3c00"
      },
      "source": [
        "# df.rename(columns=[\"intent\",\"user_input\"])\n",
        "df.rename(columns={\"intent\": \"user_input1\"})"
      ],
      "execution_count": 35,
      "outputs": [
        {
          "output_type": "execute_result",
          "data": {
            "text/html": [
              "<div>\n",
              "<style scoped>\n",
              "    .dataframe tbody tr th:only-of-type {\n",
              "        vertical-align: middle;\n",
              "    }\n",
              "\n",
              "    .dataframe tbody tr th {\n",
              "        vertical-align: top;\n",
              "    }\n",
              "\n",
              "    .dataframe thead th {\n",
              "        text-align: right;\n",
              "    }\n",
              "</style>\n",
              "<table border=\"1\" class=\"dataframe\">\n",
              "  <thead>\n",
              "    <tr style=\"text-align: right;\">\n",
              "      <th></th>\n",
              "      <th>user_input1</th>\n",
              "    </tr>\n",
              "  </thead>\n",
              "  <tbody>\n",
              "    <tr>\n",
              "      <th>greet</th>\n",
              "      <td>/greet</td>\n",
              "    </tr>\n",
              "    <tr>\n",
              "      <th>utter_multiple</th>\n",
              "      <td>We have multiple items</td>\n",
              "    </tr>\n",
              "    <tr>\n",
              "      <th>utter_electronics_or_clothing</th>\n",
              "      <td>What would you prefered clothing or electronics</td>\n",
              "    </tr>\n",
              "    <tr>\n",
              "      <th>mobile</th>\n",
              "      <td>/mobile</td>\n",
              "    </tr>\n",
              "    <tr>\n",
              "      <th>greet</th>\n",
              "      <td>/greet</td>\n",
              "    </tr>\n",
              "    <tr>\n",
              "      <th>...</th>\n",
              "      <td>...</td>\n",
              "    </tr>\n",
              "    <tr>\n",
              "      <th>paypal</th>\n",
              "      <td>/paypal</td>\n",
              "    </tr>\n",
              "    <tr>\n",
              "      <th>utter_ask_email</th>\n",
              "      <td>What is your email id?</td>\n",
              "    </tr>\n",
              "    <tr>\n",
              "      <th>email</th>\n",
              "      <td>nafisazabbar@gmail.com</td>\n",
              "    </tr>\n",
              "    <tr>\n",
              "      <th>affirm</th>\n",
              "      <td>ok</td>\n",
              "    </tr>\n",
              "    <tr>\n",
              "      <th>hoodies</th>\n",
              "      <td>i need hoddies</td>\n",
              "    </tr>\n",
              "  </tbody>\n",
              "</table>\n",
              "<p>356 rows × 1 columns</p>\n",
              "</div>"
            ],
            "text/plain": [
              "                                                                   user_input1\n",
              "greet                                                                   /greet\n",
              "utter_multiple                                          We have multiple items\n",
              "utter_electronics_or_clothing  What would you prefered clothing or electronics\n",
              "mobile                                                                 /mobile\n",
              "greet                                                                   /greet\n",
              "...                                                                        ...\n",
              "paypal                                                                 /paypal\n",
              "utter_ask_email                                         What is your email id?\n",
              "email                                                   nafisazabbar@gmail.com\n",
              "affirm                                                                      ok\n",
              "hoodies                                                         i need hoddies\n",
              "\n",
              "[356 rows x 1 columns]"
            ]
          },
          "metadata": {},
          "execution_count": 35
        }
      ]
    },
    {
      "cell_type": "code",
      "metadata": {
        "colab": {
          "base_uri": "https://localhost:8080/",
          "height": 419
        },
        "id": "qbuFOirF1RNj",
        "outputId": "e1320a7c-6bdf-4a9a-ed3b-d0feb09f15c4"
      },
      "source": [
        "df1=df.dropna()\n",
        "df1"
      ],
      "execution_count": 36,
      "outputs": [
        {
          "output_type": "execute_result",
          "data": {
            "text/html": [
              "<div>\n",
              "<style scoped>\n",
              "    .dataframe tbody tr th:only-of-type {\n",
              "        vertical-align: middle;\n",
              "    }\n",
              "\n",
              "    .dataframe tbody tr th {\n",
              "        vertical-align: top;\n",
              "    }\n",
              "\n",
              "    .dataframe thead th {\n",
              "        text-align: right;\n",
              "    }\n",
              "</style>\n",
              "<table border=\"1\" class=\"dataframe\">\n",
              "  <thead>\n",
              "    <tr style=\"text-align: right;\">\n",
              "      <th></th>\n",
              "      <th>intent</th>\n",
              "    </tr>\n",
              "  </thead>\n",
              "  <tbody>\n",
              "    <tr>\n",
              "      <th>greet</th>\n",
              "      <td>/greet</td>\n",
              "    </tr>\n",
              "    <tr>\n",
              "      <th>utter_multiple</th>\n",
              "      <td>We have multiple items</td>\n",
              "    </tr>\n",
              "    <tr>\n",
              "      <th>utter_electronics_or_clothing</th>\n",
              "      <td>What would you prefered clothing or electronics</td>\n",
              "    </tr>\n",
              "    <tr>\n",
              "      <th>mobile</th>\n",
              "      <td>/mobile</td>\n",
              "    </tr>\n",
              "    <tr>\n",
              "      <th>greet</th>\n",
              "      <td>/greet</td>\n",
              "    </tr>\n",
              "    <tr>\n",
              "      <th>...</th>\n",
              "      <td>...</td>\n",
              "    </tr>\n",
              "    <tr>\n",
              "      <th>paypal</th>\n",
              "      <td>/paypal</td>\n",
              "    </tr>\n",
              "    <tr>\n",
              "      <th>utter_ask_email</th>\n",
              "      <td>What is your email id?</td>\n",
              "    </tr>\n",
              "    <tr>\n",
              "      <th>email</th>\n",
              "      <td>nafisazabbar@gmail.com</td>\n",
              "    </tr>\n",
              "    <tr>\n",
              "      <th>affirm</th>\n",
              "      <td>ok</td>\n",
              "    </tr>\n",
              "    <tr>\n",
              "      <th>hoodies</th>\n",
              "      <td>i need hoddies</td>\n",
              "    </tr>\n",
              "  </tbody>\n",
              "</table>\n",
              "<p>276 rows × 1 columns</p>\n",
              "</div>"
            ],
            "text/plain": [
              "                                                                        intent\n",
              "greet                                                                   /greet\n",
              "utter_multiple                                          We have multiple items\n",
              "utter_electronics_or_clothing  What would you prefered clothing or electronics\n",
              "mobile                                                                 /mobile\n",
              "greet                                                                   /greet\n",
              "...                                                                        ...\n",
              "paypal                                                                 /paypal\n",
              "utter_ask_email                                         What is your email id?\n",
              "email                                                   nafisazabbar@gmail.com\n",
              "affirm                                                                      ok\n",
              "hoodies                                                         i need hoddies\n",
              "\n",
              "[276 rows x 1 columns]"
            ]
          },
          "metadata": {},
          "execution_count": 36
        }
      ]
    },
    {
      "cell_type": "code",
      "metadata": {
        "id": "kY6IxoG9kqay",
        "colab": {
          "base_uri": "https://localhost:8080/"
        },
        "outputId": "d427ecc3-7902-4c6e-b861-c5c1e2382371"
      },
      "source": [
        "import nltk\n",
        "nltk.download('punkt')"
      ],
      "execution_count": 37,
      "outputs": [
        {
          "output_type": "stream",
          "text": [
            "[nltk_data] Downloading package punkt to /root/nltk_data...\n",
            "[nltk_data]   Package punkt is already up-to-date!\n"
          ],
          "name": "stdout"
        },
        {
          "output_type": "execute_result",
          "data": {
            "text/plain": [
              "True"
            ]
          },
          "metadata": {},
          "execution_count": 37
        }
      ]
    },
    {
      "cell_type": "code",
      "metadata": {
        "id": "OXgBNPwj1RQG",
        "colab": {
          "base_uri": "https://localhost:8080/",
          "height": 137
        },
        "outputId": "4596c688-85dd-4634-d4ed-73d336983125"
      },
      "source": [
        "import re\n",
        "letters_only = re.sub(\"[^a-zA-Z]\",\" \",str(df1))\n",
        "letters_only"
      ],
      "execution_count": 38,
      "outputs": [
        {
          "output_type": "execute_result",
          "data": {
            "application/vnd.google.colaboratory.intrinsic+json": {
              "type": "string"
            },
            "text/plain": [
              "'                                                                        intent greet                                                                    greet utter multiple                                          We have multiple items utter electronics or clothing  What would you prefered clothing or electronics mobile                                                                  mobile greet                                                                    greet                                                                                paypal                                                                  paypal utter ask email                                         What is your email id  email                                                   nafisazabbar gmail com affirm                                                                      ok hoodies                                                         i need hoddies       rows x   columns '"
            ]
          },
          "metadata": {},
          "execution_count": 38
        }
      ]
    },
    {
      "cell_type": "code",
      "metadata": {
        "colab": {
          "base_uri": "https://localhost:8080/"
        },
        "id": "3JFi7aEWi_an",
        "outputId": "559376da-1937-4ffa-aad8-f29753da90ff"
      },
      "source": [
        "sentences = nltk.sent_tokenize(letters_only)\n",
        "sentences"
      ],
      "execution_count": 39,
      "outputs": [
        {
          "output_type": "execute_result",
          "data": {
            "text/plain": [
              "['                                                                        intent greet                                                                    greet utter multiple                                          We have multiple items utter electronics or clothing  What would you prefered clothing or electronics mobile                                                                  mobile greet                                                                    greet                                                                                paypal                                                                  paypal utter ask email                                         What is your email id  email                                                   nafisazabbar gmail com affirm                                                                      ok hoodies                                                         i need hoddies       rows x   columns']"
            ]
          },
          "metadata": {},
          "execution_count": 39
        }
      ]
    },
    {
      "cell_type": "code",
      "metadata": {
        "id": "HuoOsVO4jEha",
        "colab": {
          "base_uri": "https://localhost:8080/"
        },
        "outputId": "55ed04ae-b7a0-4c29-b530-ca5764ec75c3"
      },
      "source": [
        "words = nltk.word_tokenize(letters_only)\n",
        "words"
      ],
      "execution_count": 40,
      "outputs": [
        {
          "output_type": "execute_result",
          "data": {
            "text/plain": [
              "['intent',\n",
              " 'greet',\n",
              " 'greet',\n",
              " 'utter',\n",
              " 'multiple',\n",
              " 'We',\n",
              " 'have',\n",
              " 'multiple',\n",
              " 'items',\n",
              " 'utter',\n",
              " 'electronics',\n",
              " 'or',\n",
              " 'clothing',\n",
              " 'What',\n",
              " 'would',\n",
              " 'you',\n",
              " 'prefered',\n",
              " 'clothing',\n",
              " 'or',\n",
              " 'electronics',\n",
              " 'mobile',\n",
              " 'mobile',\n",
              " 'greet',\n",
              " 'greet',\n",
              " 'paypal',\n",
              " 'paypal',\n",
              " 'utter',\n",
              " 'ask',\n",
              " 'email',\n",
              " 'What',\n",
              " 'is',\n",
              " 'your',\n",
              " 'email',\n",
              " 'id',\n",
              " 'email',\n",
              " 'nafisazabbar',\n",
              " 'gmail',\n",
              " 'com',\n",
              " 'affirm',\n",
              " 'ok',\n",
              " 'hoodies',\n",
              " 'i',\n",
              " 'need',\n",
              " 'hoddies',\n",
              " 'rows',\n",
              " 'x',\n",
              " 'columns']"
            ]
          },
          "metadata": {},
          "execution_count": 40
        }
      ]
    },
    {
      "cell_type": "code",
      "metadata": {
        "id": "6EvME-rFi_hI",
        "colab": {
          "base_uri": "https://localhost:8080/"
        },
        "outputId": "9b88bab6-f555-4628-d7cc-5631ee950e7f"
      },
      "source": [
        "len(words)"
      ],
      "execution_count": 41,
      "outputs": [
        {
          "output_type": "execute_result",
          "data": {
            "text/plain": [
              "47"
            ]
          },
          "metadata": {},
          "execution_count": 41
        }
      ]
    },
    {
      "cell_type": "code",
      "metadata": {
        "id": "ZZxcyVoZ1RTy",
        "colab": {
          "base_uri": "https://localhost:8080/"
        },
        "outputId": "6bd3acb8-cede-48c6-b1da-b735588c5bbb"
      },
      "source": [
        "w=['no','never','dont','no way','not really','sad','unhappy','not good','horrible','disappointed']\n",
        "len(w)"
      ],
      "execution_count": 42,
      "outputs": [
        {
          "output_type": "execute_result",
          "data": {
            "text/plain": [
              "10"
            ]
          },
          "metadata": {},
          "execution_count": 42
        }
      ]
    },
    {
      "cell_type": "code",
      "metadata": {
        "colab": {
          "base_uri": "https://localhost:8080/"
        },
        "id": "T3b8EXI6yTJo",
        "outputId": "fb139756-9007-42f1-d1d0-ce8634de5fa4"
      },
      "source": [
        "w=['no','never','dont','no way','not really','sad','unhappy','not good','horrible','disappointed']\n",
        "words.extend(w)\n",
        "words"
      ],
      "execution_count": 43,
      "outputs": [
        {
          "output_type": "execute_result",
          "data": {
            "text/plain": [
              "['intent',\n",
              " 'greet',\n",
              " 'greet',\n",
              " 'utter',\n",
              " 'multiple',\n",
              " 'We',\n",
              " 'have',\n",
              " 'multiple',\n",
              " 'items',\n",
              " 'utter',\n",
              " 'electronics',\n",
              " 'or',\n",
              " 'clothing',\n",
              " 'What',\n",
              " 'would',\n",
              " 'you',\n",
              " 'prefered',\n",
              " 'clothing',\n",
              " 'or',\n",
              " 'electronics',\n",
              " 'mobile',\n",
              " 'mobile',\n",
              " 'greet',\n",
              " 'greet',\n",
              " 'paypal',\n",
              " 'paypal',\n",
              " 'utter',\n",
              " 'ask',\n",
              " 'email',\n",
              " 'What',\n",
              " 'is',\n",
              " 'your',\n",
              " 'email',\n",
              " 'id',\n",
              " 'email',\n",
              " 'nafisazabbar',\n",
              " 'gmail',\n",
              " 'com',\n",
              " 'affirm',\n",
              " 'ok',\n",
              " 'hoodies',\n",
              " 'i',\n",
              " 'need',\n",
              " 'hoddies',\n",
              " 'rows',\n",
              " 'x',\n",
              " 'columns',\n",
              " 'no',\n",
              " 'never',\n",
              " 'dont',\n",
              " 'no way',\n",
              " 'not really',\n",
              " 'sad',\n",
              " 'unhappy',\n",
              " 'not good',\n",
              " 'horrible',\n",
              " 'disappointed']"
            ]
          },
          "metadata": {},
          "execution_count": 43
        }
      ]
    },
    {
      "cell_type": "code",
      "metadata": {
        "colab": {
          "base_uri": "https://localhost:8080/"
        },
        "id": "26kFdwr90UQ_",
        "outputId": "eaa9a2d9-d54f-4a1c-c3da-ca60460b7df1"
      },
      "source": [
        "len(words)"
      ],
      "execution_count": 45,
      "outputs": [
        {
          "output_type": "execute_result",
          "data": {
            "text/plain": [
              "57"
            ]
          },
          "metadata": {},
          "execution_count": 45
        }
      ]
    },
    {
      "cell_type": "code",
      "metadata": {
        "id": "iewQy6G2jPtb",
        "colab": {
          "base_uri": "https://localhost:8080/"
        },
        "outputId": "07e16e14-02fb-4285-ff91-241f0658517d"
      },
      "source": [
        "x_train = words\n",
        "y_train = [1,1,1,1,1,1,1,1,1,1,1,1,1,1,1,1,1,1,1,1,1,1,1,1,1,1,1,1,11,1,1,1,1,1,1,1,1,1,1,1,1,1,1,1,1,1,1,0,0,0,0,0,0,0,0,0,0]\n",
        "len(y_train)\n"
      ],
      "execution_count": 49,
      "outputs": [
        {
          "output_type": "execute_result",
          "data": {
            "text/plain": [
              "57"
            ]
          },
          "metadata": {},
          "execution_count": 49
        }
      ]
    },
    {
      "cell_type": "code",
      "metadata": {
        "colab": {
          "base_uri": "https://localhost:8080/"
        },
        "id": "jxlDp0UWjPxV",
        "outputId": "d43ff056-8747-4da5-a96c-ceac578e064e"
      },
      "source": [
        "len(x_train)"
      ],
      "execution_count": 50,
      "outputs": [
        {
          "output_type": "execute_result",
          "data": {
            "text/plain": [
              "57"
            ]
          },
          "metadata": {},
          "execution_count": 50
        }
      ]
    },
    {
      "cell_type": "code",
      "metadata": {
        "id": "rc-kI21X0p6R"
      },
      "source": [
        "from nltk.tokenize import RegexpTokenizer\n",
        "from nltk.stem.porter import PorterStemmer\n",
        "from nltk.corpus import stopwords"
      ],
      "execution_count": 51,
      "outputs": []
    },
    {
      "cell_type": "code",
      "metadata": {
        "colab": {
          "base_uri": "https://localhost:8080/"
        },
        "id": "eMqz4_na0t8M",
        "outputId": "aee77473-3209-40db-82d7-2ac878b6025c"
      },
      "source": [
        "import nltk\n",
        "nltk.download('stopwords')"
      ],
      "execution_count": 52,
      "outputs": [
        {
          "output_type": "stream",
          "text": [
            "[nltk_data] Downloading package stopwords to /root/nltk_data...\n",
            "[nltk_data]   Package stopwords is already up-to-date!\n"
          ],
          "name": "stdout"
        },
        {
          "output_type": "execute_result",
          "data": {
            "text/plain": [
              "True"
            ]
          },
          "metadata": {},
          "execution_count": 52
        }
      ]
    },
    {
      "cell_type": "code",
      "metadata": {
        "id": "OA_bnjaY0z1l"
      },
      "source": [
        "tokenizer = RegexpTokenizer(r'\\w+')\n",
        "en_stopwords = set(stopwords.words('english'))\n",
        "ps = PorterStemmer()"
      ],
      "execution_count": 53,
      "outputs": []
    },
    {
      "cell_type": "code",
      "metadata": {
        "id": "JsfDdBMu03P0"
      },
      "source": [
        "def getCleanedText(text):\n",
        "  text = text.lower()\n",
        "  #tokenize\n",
        "  tokens = tokenizer.tokenize(text)\n",
        "  new_tokens = [token for token in tokens if token not in en_stopwords]\n",
        "  stemmed_tokens = [ps.stem(tokens)for tokens in new_tokens]\n",
        "  clean_text = \"\".join(stemmed_tokens)\n",
        "  return clean_text"
      ],
      "execution_count": 54,
      "outputs": []
    },
    {
      "cell_type": "code",
      "metadata": {
        "id": "E1L5OLfr06It"
      },
      "source": [
        "x_test = [\"good\",\"okay\",\"right\",\"hey\",\"do\",\"no\"]"
      ],
      "execution_count": 55,
      "outputs": []
    },
    {
      "cell_type": "code",
      "metadata": {
        "id": "c6d-2Wj909V8"
      },
      "source": [
        "x_clean = [getCleanedText(i)for i in x_train]\n",
        "y_clean = [getCleanedText(i)for i in x_test]"
      ],
      "execution_count": 56,
      "outputs": []
    },
    {
      "cell_type": "code",
      "metadata": {
        "colab": {
          "base_uri": "https://localhost:8080/"
        },
        "id": "WWre4v1v1Aq1",
        "outputId": "867c0f04-6aa0-4d46-81fb-2c88153e8c99"
      },
      "source": [
        "x_clean"
      ],
      "execution_count": 57,
      "outputs": [
        {
          "output_type": "execute_result",
          "data": {
            "text/plain": [
              "['intent',\n",
              " 'greet',\n",
              " 'greet',\n",
              " 'utter',\n",
              " 'multipl',\n",
              " '',\n",
              " '',\n",
              " 'multipl',\n",
              " 'item',\n",
              " 'utter',\n",
              " 'electron',\n",
              " '',\n",
              " 'cloth',\n",
              " '',\n",
              " 'would',\n",
              " '',\n",
              " 'prefer',\n",
              " 'cloth',\n",
              " '',\n",
              " 'electron',\n",
              " 'mobil',\n",
              " 'mobil',\n",
              " 'greet',\n",
              " 'greet',\n",
              " 'paypal',\n",
              " 'paypal',\n",
              " 'utter',\n",
              " 'ask',\n",
              " 'email',\n",
              " '',\n",
              " '',\n",
              " '',\n",
              " 'email',\n",
              " 'id',\n",
              " 'email',\n",
              " 'nafisazabbar',\n",
              " 'gmail',\n",
              " 'com',\n",
              " 'affirm',\n",
              " 'ok',\n",
              " 'hoodi',\n",
              " '',\n",
              " 'need',\n",
              " 'hoddi',\n",
              " 'row',\n",
              " 'x',\n",
              " 'column',\n",
              " '',\n",
              " 'never',\n",
              " 'dont',\n",
              " 'way',\n",
              " 'realli',\n",
              " 'sad',\n",
              " 'unhappi',\n",
              " 'good',\n",
              " 'horribl',\n",
              " 'disappoint']"
            ]
          },
          "metadata": {},
          "execution_count": 57
        }
      ]
    },
    {
      "cell_type": "code",
      "metadata": {
        "colab": {
          "base_uri": "https://localhost:8080/"
        },
        "id": "sELolwlW1FPU",
        "outputId": "352922d1-fe70-4391-b731-6ed1a3224602"
      },
      "source": [
        "y_clean"
      ],
      "execution_count": 58,
      "outputs": [
        {
          "output_type": "execute_result",
          "data": {
            "text/plain": [
              "['good', 'okay', 'right', 'hey', '', '']"
            ]
          },
          "metadata": {},
          "execution_count": 58
        }
      ]
    },
    {
      "cell_type": "code",
      "metadata": {
        "id": "WTdjmccK1Ic_"
      },
      "source": [
        "from sklearn.feature_extraction.text import CountVectorizer"
      ],
      "execution_count": 59,
      "outputs": []
    },
    {
      "cell_type": "code",
      "metadata": {
        "id": "LYaKj9tx1Llf"
      },
      "source": [
        "cv = CountVectorizer(ngram_range=(1,2))"
      ],
      "execution_count": 60,
      "outputs": []
    },
    {
      "cell_type": "code",
      "metadata": {
        "id": "f444ZKiP1OsW"
      },
      "source": [
        "X_vec = cv.fit_transform(x_clean).toarray()"
      ],
      "execution_count": 61,
      "outputs": []
    },
    {
      "cell_type": "code",
      "metadata": {
        "colab": {
          "base_uri": "https://localhost:8080/"
        },
        "id": "Bo6pU28A1Ru-",
        "outputId": "2deb357b-1d03-40d4-c361-2cc953b6f1bb"
      },
      "source": [
        "X_vec"
      ],
      "execution_count": 62,
      "outputs": [
        {
          "output_type": "execute_result",
          "data": {
            "text/plain": [
              "array([[0, 0, 0, ..., 0, 0, 0],\n",
              "       [0, 0, 0, ..., 0, 0, 0],\n",
              "       [0, 0, 0, ..., 0, 0, 0],\n",
              "       ...,\n",
              "       [0, 0, 0, ..., 0, 0, 0],\n",
              "       [0, 0, 0, ..., 0, 0, 0],\n",
              "       [0, 0, 0, ..., 0, 0, 0]])"
            ]
          },
          "metadata": {},
          "execution_count": 62
        }
      ]
    },
    {
      "cell_type": "code",
      "metadata": {
        "colab": {
          "base_uri": "https://localhost:8080/"
        },
        "id": "jcBSfDK51VLt",
        "outputId": "d92f9308-692c-4f54-a014-efb80fc7d892"
      },
      "source": [
        "print(cv.get_feature_names())"
      ],
      "execution_count": 63,
      "outputs": [
        {
          "output_type": "stream",
          "text": [
            "['affirm', 'ask', 'cloth', 'column', 'com', 'disappoint', 'dont', 'electron', 'email', 'gmail', 'good', 'greet', 'hoddi', 'hoodi', 'horribl', 'id', 'intent', 'item', 'mobil', 'multipl', 'nafisazabbar', 'need', 'never', 'ok', 'paypal', 'prefer', 'realli', 'row', 'sad', 'unhappi', 'utter', 'way', 'would']\n"
          ],
          "name": "stdout"
        }
      ]
    },
    {
      "cell_type": "code",
      "metadata": {
        "colab": {
          "base_uri": "https://localhost:8080/"
        },
        "id": "WhzNyri21YVD",
        "outputId": "6f116cea-3502-4911-a330-54dedeacb02f"
      },
      "source": [
        "xt_vect  = cv.transform(y_clean).toarray()\n",
        "xt_vect"
      ],
      "execution_count": 64,
      "outputs": [
        {
          "output_type": "execute_result",
          "data": {
            "text/plain": [
              "array([[0, 0, 0, 0, 0, 0, 0, 0, 0, 0, 1, 0, 0, 0, 0, 0, 0, 0, 0, 0, 0, 0,\n",
              "        0, 0, 0, 0, 0, 0, 0, 0, 0, 0, 0],\n",
              "       [0, 0, 0, 0, 0, 0, 0, 0, 0, 0, 0, 0, 0, 0, 0, 0, 0, 0, 0, 0, 0, 0,\n",
              "        0, 0, 0, 0, 0, 0, 0, 0, 0, 0, 0],\n",
              "       [0, 0, 0, 0, 0, 0, 0, 0, 0, 0, 0, 0, 0, 0, 0, 0, 0, 0, 0, 0, 0, 0,\n",
              "        0, 0, 0, 0, 0, 0, 0, 0, 0, 0, 0],\n",
              "       [0, 0, 0, 0, 0, 0, 0, 0, 0, 0, 0, 0, 0, 0, 0, 0, 0, 0, 0, 0, 0, 0,\n",
              "        0, 0, 0, 0, 0, 0, 0, 0, 0, 0, 0],\n",
              "       [0, 0, 0, 0, 0, 0, 0, 0, 0, 0, 0, 0, 0, 0, 0, 0, 0, 0, 0, 0, 0, 0,\n",
              "        0, 0, 0, 0, 0, 0, 0, 0, 0, 0, 0],\n",
              "       [0, 0, 0, 0, 0, 0, 0, 0, 0, 0, 0, 0, 0, 0, 0, 0, 0, 0, 0, 0, 0, 0,\n",
              "        0, 0, 0, 0, 0, 0, 0, 0, 0, 0, 0]])"
            ]
          },
          "metadata": {},
          "execution_count": 64
        }
      ]
    },
    {
      "cell_type": "code",
      "metadata": {
        "id": "N2vLc4r71cqf"
      },
      "source": [
        "from sklearn.naive_bayes import MultinomialNB"
      ],
      "execution_count": 65,
      "outputs": []
    },
    {
      "cell_type": "code",
      "metadata": {
        "id": "5_7Zdhs71f5v"
      },
      "source": [
        "mn = MultinomialNB()"
      ],
      "execution_count": 66,
      "outputs": []
    },
    {
      "cell_type": "code",
      "metadata": {
        "colab": {
          "base_uri": "https://localhost:8080/"
        },
        "id": "Jdao60Du1i6u",
        "outputId": "3a94ffa1-a06c-4d42-fdfd-3001ad5d545f"
      },
      "source": [
        "mn.fit(X_vec,y_train)"
      ],
      "execution_count": 67,
      "outputs": [
        {
          "output_type": "execute_result",
          "data": {
            "text/plain": [
              "MultinomialNB(alpha=1.0, class_prior=None, fit_prior=True)"
            ]
          },
          "metadata": {},
          "execution_count": 67
        }
      ]
    },
    {
      "cell_type": "code",
      "metadata": {
        "colab": {
          "base_uri": "https://localhost:8080/"
        },
        "id": "idPYqXXZ1kpY",
        "outputId": "05edb791-d264-4d9c-b2be-a1bd1112a0a8"
      },
      "source": [
        "y_pred = mn.predict(xt_vect)\n",
        "y_pred"
      ],
      "execution_count": 68,
      "outputs": [
        {
          "output_type": "execute_result",
          "data": {
            "text/plain": [
              "array([1, 1, 1, 1, 1, 1])"
            ]
          },
          "metadata": {},
          "execution_count": 68
        }
      ]
    },
    {
      "cell_type": "code",
      "metadata": {
        "colab": {
          "base_uri": "https://localhost:8080/"
        },
        "id": "FHDldoP51ozG",
        "outputId": "cf092c34-d7be-4b36-a621-c7eca61c5166"
      },
      "source": [
        "if y_pred.any==1:\n",
        "  print(\"the sentiment is nagative\")\n",
        "else:\n",
        "  print(\"the sentiment is postive\")"
      ],
      "execution_count": 69,
      "outputs": [
        {
          "output_type": "stream",
          "text": [
            "the sentiment is postive\n"
          ],
          "name": "stdout"
        }
      ]
    }
  ]
}