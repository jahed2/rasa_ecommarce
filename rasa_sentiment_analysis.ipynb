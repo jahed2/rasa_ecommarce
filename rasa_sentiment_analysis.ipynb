{
  "nbformat": 4,
  "nbformat_minor": 0,
  "metadata": {
    "colab": {
      "name": "rasa_sentiment_analysis.ipynb",
      "provenance": [],
      "authorship_tag": "ABX9TyMedRACDlzEUUojaTZOuy4T",
      "include_colab_link": true
    },
    "kernelspec": {
      "name": "python3",
      "display_name": "Python 3"
    },
    "language_info": {
      "name": "python"
    }
  },
  "cells": [
    {
      "cell_type": "markdown",
      "metadata": {
        "id": "view-in-github",
        "colab_type": "text"
      },
      "source": [
        "<a href=\"https://colab.research.google.com/github/jahed2/rasa_ecommarce/blob/master/rasa_sentiment_analysis.ipynb\" target=\"_parent\"><img src=\"https://colab.research.google.com/assets/colab-badge.svg\" alt=\"Open In Colab\"/></a>"
      ]
    },
    {
      "cell_type": "code",
      "metadata": {
        "colab": {
          "base_uri": "https://localhost:8080/",
          "height": 1000
        },
        "id": "dU00TsxGaD6f",
        "outputId": "dfa846b0-0cec-401a-d446-22b9b9b9a09e"
      },
      "source": [
        "import pandas as pd\n",
        "df = pd.read_csv('/content/chats.csv',error_bad_lines=False)\n",
        "df"
      ],
      "execution_count": 83,
      "outputs": [
        {
          "output_type": "stream",
          "text": [
            "b'Skipping line 5: expected 7 fields, saw 9\\nSkipping line 10: expected 7 fields, saw 9\\nSkipping line 15: expected 7 fields, saw 9\\nSkipping line 17: expected 7 fields, saw 10\\nSkipping line 18: expected 7 fields, saw 9\\nSkipping line 19: expected 7 fields, saw 9\\nSkipping line 32: expected 7 fields, saw 9\\nSkipping line 34: expected 7 fields, saw 10\\nSkipping line 35: expected 7 fields, saw 8\\n'\n"
          ],
          "name": "stderr"
        },
        {
          "output_type": "execute_result",
          "data": {
            "text/html": [
              "<div>\n",
              "<style scoped>\n",
              "    .dataframe tbody tr th:only-of-type {\n",
              "        vertical-align: middle;\n",
              "    }\n",
              "\n",
              "    .dataframe tbody tr th {\n",
              "        vertical-align: top;\n",
              "    }\n",
              "\n",
              "    .dataframe thead th {\n",
              "        text-align: right;\n",
              "    }\n",
              "</style>\n",
              "<table border=\"1\" class=\"dataframe\">\n",
              "  <thead>\n",
              "    <tr style=\"text-align: right;\">\n",
              "      <th></th>\n",
              "      <th>intent</th>\n",
              "      <th>user_input</th>\n",
              "      <th>entity_name</th>\n",
              "      <th>entity_value</th>\n",
              "      <th>action</th>\n",
              "      <th>bot_reply</th>\n",
              "    </tr>\n",
              "  </thead>\n",
              "  <tbody>\n",
              "    <tr>\n",
              "      <th>greet</th>\n",
              "      <td>/greet</td>\n",
              "      <td>NaN</td>\n",
              "      <td>NaN</td>\n",
              "      <td>utter_botgreet</td>\n",
              "      <td>Welcome to our shop</td>\n",
              "      <td>how can i help you sir?</td>\n",
              "    </tr>\n",
              "    <tr>\n",
              "      <th>utter_multiple</th>\n",
              "      <td>We have multiple items</td>\n",
              "      <td>NaN</td>\n",
              "      <td>NaN</td>\n",
              "      <td>NaN</td>\n",
              "      <td>NaN</td>\n",
              "      <td>NaN</td>\n",
              "    </tr>\n",
              "    <tr>\n",
              "      <th>utter_electronics_or_clothing</th>\n",
              "      <td>What would you prefered clothing or electronics</td>\n",
              "      <td>NaN</td>\n",
              "      <td>NaN</td>\n",
              "      <td>NaN</td>\n",
              "      <td>NaN</td>\n",
              "      <td>NaN</td>\n",
              "    </tr>\n",
              "    <tr>\n",
              "      <th>mobile</th>\n",
              "      <td>/mobile</td>\n",
              "      <td>NaN</td>\n",
              "      <td>NaN</td>\n",
              "      <td>utter_mobile</td>\n",
              "      <td>We have different brand of mobile phones</td>\n",
              "      <td>what would you prefered?</td>\n",
              "    </tr>\n",
              "    <tr>\n",
              "      <th>greet</th>\n",
              "      <td>/greet</td>\n",
              "      <td>NaN</td>\n",
              "      <td>NaN</td>\n",
              "      <td>utter_botgreet</td>\n",
              "      <td>Welcome to our shop</td>\n",
              "      <td>how can i help you sir?</td>\n",
              "    </tr>\n",
              "    <tr>\n",
              "      <th>utter_multiple</th>\n",
              "      <td>We have multiple items</td>\n",
              "      <td>NaN</td>\n",
              "      <td>NaN</td>\n",
              "      <td>NaN</td>\n",
              "      <td>NaN</td>\n",
              "      <td>NaN</td>\n",
              "    </tr>\n",
              "    <tr>\n",
              "      <th>utter_electronics_or_clothing</th>\n",
              "      <td>What would you prefered clothing or electronics</td>\n",
              "      <td>NaN</td>\n",
              "      <td>NaN</td>\n",
              "      <td>NaN</td>\n",
              "      <td>NaN</td>\n",
              "      <td>NaN</td>\n",
              "    </tr>\n",
              "    <tr>\n",
              "      <th>mobile</th>\n",
              "      <td>/mobile</td>\n",
              "      <td>NaN</td>\n",
              "      <td>NaN</td>\n",
              "      <td>utter_mobile</td>\n",
              "      <td>We have different brand of mobile phones</td>\n",
              "      <td>what would you prefered?</td>\n",
              "    </tr>\n",
              "    <tr>\n",
              "      <th>greet</th>\n",
              "      <td>/greet</td>\n",
              "      <td>NaN</td>\n",
              "      <td>NaN</td>\n",
              "      <td>utter_botgreet</td>\n",
              "      <td>Welcome to our shop</td>\n",
              "      <td>how can i help you sir?</td>\n",
              "    </tr>\n",
              "    <tr>\n",
              "      <th>utter_multiple</th>\n",
              "      <td>We have multiple items</td>\n",
              "      <td>NaN</td>\n",
              "      <td>NaN</td>\n",
              "      <td>NaN</td>\n",
              "      <td>NaN</td>\n",
              "      <td>NaN</td>\n",
              "    </tr>\n",
              "    <tr>\n",
              "      <th>utter_electronics_or_clothing</th>\n",
              "      <td>What would you prefered clothing or electronics</td>\n",
              "      <td>NaN</td>\n",
              "      <td>NaN</td>\n",
              "      <td>NaN</td>\n",
              "      <td>NaN</td>\n",
              "      <td>NaN</td>\n",
              "    </tr>\n",
              "    <tr>\n",
              "      <th>computer</th>\n",
              "      <td>/computer</td>\n",
              "      <td>NaN</td>\n",
              "      <td>NaN</td>\n",
              "      <td>utter_computer</td>\n",
              "      <td>We have different brand of computers</td>\n",
              "      <td>what would you prefered?</td>\n",
              "    </tr>\n",
              "    <tr>\n",
              "      <th>utter_ask_name</th>\n",
              "      <td>What is your name?</td>\n",
              "      <td>NaN</td>\n",
              "      <td>NaN</td>\n",
              "      <td>NaN</td>\n",
              "      <td>NaN</td>\n",
              "      <td>NaN</td>\n",
              "    </tr>\n",
              "    <tr>\n",
              "      <th>my_name</th>\n",
              "      <td>my name is nikhil</td>\n",
              "      <td>name</td>\n",
              "      <td>nikhil</td>\n",
              "      <td>utter_ask_number</td>\n",
              "      <td>What is your mobile number?</td>\n",
              "      <td>NaN</td>\n",
              "    </tr>\n",
              "    <tr>\n",
              "      <th>mobile_number</th>\n",
              "      <td>my number is 01832363165</td>\n",
              "      <td>number</td>\n",
              "      <td>01832363165</td>\n",
              "      <td>utter_ask_address</td>\n",
              "      <td>What is your address</td>\n",
              "      <td>NaN</td>\n",
              "    </tr>\n",
              "    <tr>\n",
              "      <th>address</th>\n",
              "      <td>my address is dhaka</td>\n",
              "      <td>address</td>\n",
              "      <td>dhaka</td>\n",
              "      <td>utter_ask_email</td>\n",
              "      <td>What is your email id?</td>\n",
              "      <td>NaN</td>\n",
              "    </tr>\n",
              "    <tr>\n",
              "      <th>email</th>\n",
              "      <td>my email is noman@gmail.com</td>\n",
              "      <td>email</td>\n",
              "      <td>noman@gmail.com</td>\n",
              "      <td>utter_details_thanks</td>\n",
              "      <td>Thanks for providing the given details</td>\n",
              "      <td>NaN</td>\n",
              "    </tr>\n",
              "    <tr>\n",
              "      <th>Name: nikhil</th>\n",
              "      <td>NaN</td>\n",
              "      <td>NaN</td>\n",
              "      <td>NaN</td>\n",
              "      <td>NaN</td>\n",
              "      <td>NaN</td>\n",
              "      <td>NaN</td>\n",
              "    </tr>\n",
              "    <tr>\n",
              "      <th>Mobile Number:01832363165</th>\n",
              "      <td>NaN</td>\n",
              "      <td>NaN</td>\n",
              "      <td>NaN</td>\n",
              "      <td>NaN</td>\n",
              "      <td>NaN</td>\n",
              "      <td>NaN</td>\n",
              "    </tr>\n",
              "    <tr>\n",
              "      <th>Address: dhaka</th>\n",
              "      <td>NaN</td>\n",
              "      <td>NaN</td>\n",
              "      <td>NaN</td>\n",
              "      <td>NaN</td>\n",
              "      <td>NaN</td>\n",
              "      <td>NaN</td>\n",
              "    </tr>\n",
              "    <tr>\n",
              "      <th>email: noman@gmail.com.  we will sent product details as early as possible</th>\n",
              "      <td>NaN</td>\n",
              "      <td>NaN</td>\n",
              "      <td>NaN</td>\n",
              "      <td>NaN</td>\n",
              "      <td>NaN</td>\n",
              "      <td>NaN</td>\n",
              "    </tr>\n",
              "    <tr>\n",
              "      <th>greet</th>\n",
              "      <td>/greet</td>\n",
              "      <td>NaN</td>\n",
              "      <td>NaN</td>\n",
              "      <td>utter_botgreet</td>\n",
              "      <td>Welcome to our shop</td>\n",
              "      <td>how can i help you sir?</td>\n",
              "    </tr>\n",
              "    <tr>\n",
              "      <th>utter_multiple</th>\n",
              "      <td>We have multiple items</td>\n",
              "      <td>NaN</td>\n",
              "      <td>NaN</td>\n",
              "      <td>NaN</td>\n",
              "      <td>NaN</td>\n",
              "      <td>NaN</td>\n",
              "    </tr>\n",
              "    <tr>\n",
              "      <th>utter_electronics_or_clothing</th>\n",
              "      <td>What would you prefered clothing or electronics</td>\n",
              "      <td>NaN</td>\n",
              "      <td>NaN</td>\n",
              "      <td>NaN</td>\n",
              "      <td>NaN</td>\n",
              "      <td>NaN</td>\n",
              "    </tr>\n",
              "    <tr>\n",
              "      <th>computer</th>\n",
              "      <td>/computer</td>\n",
              "      <td>NaN</td>\n",
              "      <td>NaN</td>\n",
              "      <td>utter_computer</td>\n",
              "      <td>We have different brand of computers</td>\n",
              "      <td>what would you prefered?</td>\n",
              "    </tr>\n",
              "  </tbody>\n",
              "</table>\n",
              "</div>"
            ],
            "text/plain": [
              "                                                                                             intent  ...                  bot_reply\n",
              "greet                                                                                        /greet  ...   how can i help you sir? \n",
              "utter_multiple                                                               We have multiple items  ...                        NaN\n",
              "utter_electronics_or_clothing                       What would you prefered clothing or electronics  ...                        NaN\n",
              "mobile                                                                                      /mobile  ...   what would you prefered?\n",
              "greet                                                                                        /greet  ...   how can i help you sir? \n",
              "utter_multiple                                                               We have multiple items  ...                        NaN\n",
              "utter_electronics_or_clothing                       What would you prefered clothing or electronics  ...                        NaN\n",
              "mobile                                                                                      /mobile  ...   what would you prefered?\n",
              "greet                                                                                        /greet  ...   how can i help you sir? \n",
              "utter_multiple                                                               We have multiple items  ...                        NaN\n",
              "utter_electronics_or_clothing                       What would you prefered clothing or electronics  ...                        NaN\n",
              "computer                                                                                  /computer  ...   what would you prefered?\n",
              "utter_ask_name                                                                   What is your name?  ...                        NaN\n",
              "my_name                                                                           my name is nikhil  ...                        NaN\n",
              "mobile_number                                                              my number is 01832363165  ...                        NaN\n",
              "address                                                                         my address is dhaka  ...                        NaN\n",
              "email                                                                   my email is noman@gmail.com  ...                        NaN\n",
              "Name: nikhil                                                                                    NaN  ...                        NaN\n",
              "Mobile Number:01832363165                                                                       NaN  ...                        NaN\n",
              "Address: dhaka                                                                                  NaN  ...                        NaN\n",
              "email: noman@gmail.com.  we will sent product d...                                              NaN  ...                        NaN\n",
              "greet                                                                                        /greet  ...   how can i help you sir? \n",
              "utter_multiple                                                               We have multiple items  ...                        NaN\n",
              "utter_electronics_or_clothing                       What would you prefered clothing or electronics  ...                        NaN\n",
              "computer                                                                                  /computer  ...   what would you prefered?\n",
              "\n",
              "[25 rows x 6 columns]"
            ]
          },
          "metadata": {
            "tags": []
          },
          "execution_count": 83
        }
      ]
    },
    {
      "cell_type": "code",
      "metadata": {
        "id": "R3WUX_NawMRC"
      },
      "source": [
        "df.drop(columns=['entity_value','action','bot_reply','user_input','entity_name'],inplace=True)"
      ],
      "execution_count": 84,
      "outputs": []
    },
    {
      "cell_type": "code",
      "metadata": {
        "colab": {
          "base_uri": "https://localhost:8080/",
          "height": 824
        },
        "id": "zMvDEKoPxVq7",
        "outputId": "c985eca7-8e19-4cd7-f935-3241665eb86e"
      },
      "source": [
        "df"
      ],
      "execution_count": 85,
      "outputs": [
        {
          "output_type": "execute_result",
          "data": {
            "text/html": [
              "<div>\n",
              "<style scoped>\n",
              "    .dataframe tbody tr th:only-of-type {\n",
              "        vertical-align: middle;\n",
              "    }\n",
              "\n",
              "    .dataframe tbody tr th {\n",
              "        vertical-align: top;\n",
              "    }\n",
              "\n",
              "    .dataframe thead th {\n",
              "        text-align: right;\n",
              "    }\n",
              "</style>\n",
              "<table border=\"1\" class=\"dataframe\">\n",
              "  <thead>\n",
              "    <tr style=\"text-align: right;\">\n",
              "      <th></th>\n",
              "      <th>intent</th>\n",
              "    </tr>\n",
              "  </thead>\n",
              "  <tbody>\n",
              "    <tr>\n",
              "      <th>greet</th>\n",
              "      <td>/greet</td>\n",
              "    </tr>\n",
              "    <tr>\n",
              "      <th>utter_multiple</th>\n",
              "      <td>We have multiple items</td>\n",
              "    </tr>\n",
              "    <tr>\n",
              "      <th>utter_electronics_or_clothing</th>\n",
              "      <td>What would you prefered clothing or electronics</td>\n",
              "    </tr>\n",
              "    <tr>\n",
              "      <th>mobile</th>\n",
              "      <td>/mobile</td>\n",
              "    </tr>\n",
              "    <tr>\n",
              "      <th>greet</th>\n",
              "      <td>/greet</td>\n",
              "    </tr>\n",
              "    <tr>\n",
              "      <th>utter_multiple</th>\n",
              "      <td>We have multiple items</td>\n",
              "    </tr>\n",
              "    <tr>\n",
              "      <th>utter_electronics_or_clothing</th>\n",
              "      <td>What would you prefered clothing or electronics</td>\n",
              "    </tr>\n",
              "    <tr>\n",
              "      <th>mobile</th>\n",
              "      <td>/mobile</td>\n",
              "    </tr>\n",
              "    <tr>\n",
              "      <th>greet</th>\n",
              "      <td>/greet</td>\n",
              "    </tr>\n",
              "    <tr>\n",
              "      <th>utter_multiple</th>\n",
              "      <td>We have multiple items</td>\n",
              "    </tr>\n",
              "    <tr>\n",
              "      <th>utter_electronics_or_clothing</th>\n",
              "      <td>What would you prefered clothing or electronics</td>\n",
              "    </tr>\n",
              "    <tr>\n",
              "      <th>computer</th>\n",
              "      <td>/computer</td>\n",
              "    </tr>\n",
              "    <tr>\n",
              "      <th>utter_ask_name</th>\n",
              "      <td>What is your name?</td>\n",
              "    </tr>\n",
              "    <tr>\n",
              "      <th>my_name</th>\n",
              "      <td>my name is nikhil</td>\n",
              "    </tr>\n",
              "    <tr>\n",
              "      <th>mobile_number</th>\n",
              "      <td>my number is 01832363165</td>\n",
              "    </tr>\n",
              "    <tr>\n",
              "      <th>address</th>\n",
              "      <td>my address is dhaka</td>\n",
              "    </tr>\n",
              "    <tr>\n",
              "      <th>email</th>\n",
              "      <td>my email is noman@gmail.com</td>\n",
              "    </tr>\n",
              "    <tr>\n",
              "      <th>Name: nikhil</th>\n",
              "      <td>NaN</td>\n",
              "    </tr>\n",
              "    <tr>\n",
              "      <th>Mobile Number:01832363165</th>\n",
              "      <td>NaN</td>\n",
              "    </tr>\n",
              "    <tr>\n",
              "      <th>Address: dhaka</th>\n",
              "      <td>NaN</td>\n",
              "    </tr>\n",
              "    <tr>\n",
              "      <th>email: noman@gmail.com.  we will sent product details as early as possible</th>\n",
              "      <td>NaN</td>\n",
              "    </tr>\n",
              "    <tr>\n",
              "      <th>greet</th>\n",
              "      <td>/greet</td>\n",
              "    </tr>\n",
              "    <tr>\n",
              "      <th>utter_multiple</th>\n",
              "      <td>We have multiple items</td>\n",
              "    </tr>\n",
              "    <tr>\n",
              "      <th>utter_electronics_or_clothing</th>\n",
              "      <td>What would you prefered clothing or electronics</td>\n",
              "    </tr>\n",
              "    <tr>\n",
              "      <th>computer</th>\n",
              "      <td>/computer</td>\n",
              "    </tr>\n",
              "  </tbody>\n",
              "</table>\n",
              "</div>"
            ],
            "text/plain": [
              "                                                                                             intent\n",
              "greet                                                                                        /greet\n",
              "utter_multiple                                                               We have multiple items\n",
              "utter_electronics_or_clothing                       What would you prefered clothing or electronics\n",
              "mobile                                                                                      /mobile\n",
              "greet                                                                                        /greet\n",
              "utter_multiple                                                               We have multiple items\n",
              "utter_electronics_or_clothing                       What would you prefered clothing or electronics\n",
              "mobile                                                                                      /mobile\n",
              "greet                                                                                        /greet\n",
              "utter_multiple                                                               We have multiple items\n",
              "utter_electronics_or_clothing                       What would you prefered clothing or electronics\n",
              "computer                                                                                  /computer\n",
              "utter_ask_name                                                                   What is your name?\n",
              "my_name                                                                           my name is nikhil\n",
              "mobile_number                                                              my number is 01832363165\n",
              "address                                                                         my address is dhaka\n",
              "email                                                                   my email is noman@gmail.com\n",
              "Name: nikhil                                                                                    NaN\n",
              "Mobile Number:01832363165                                                                       NaN\n",
              "Address: dhaka                                                                                  NaN\n",
              "email: noman@gmail.com.  we will sent product d...                                              NaN\n",
              "greet                                                                                        /greet\n",
              "utter_multiple                                                               We have multiple items\n",
              "utter_electronics_or_clothing                       What would you prefered clothing or electronics\n",
              "computer                                                                                  /computer"
            ]
          },
          "metadata": {
            "tags": []
          },
          "execution_count": 85
        }
      ]
    },
    {
      "cell_type": "code",
      "metadata": {
        "id": "Uiom4UBPo-Ef"
      },
      "source": [
        ""
      ],
      "execution_count": 33,
      "outputs": []
    },
    {
      "cell_type": "code",
      "metadata": {
        "id": "jtBjCENWo-Nb"
      },
      "source": [
        ""
      ],
      "execution_count": null,
      "outputs": []
    },
    {
      "cell_type": "code",
      "metadata": {
        "colab": {
          "base_uri": "https://localhost:8080/",
          "height": 824
        },
        "id": "OAZclwk5yUpM",
        "outputId": "50f346f6-49dc-49e5-a9ca-6852dd4b3c69"
      },
      "source": [
        "# df.rename(columns=[\"intent\",\"user_input\"])\n",
        "df.rename(columns={\"intent\": \"user_input1\"})"
      ],
      "execution_count": 86,
      "outputs": [
        {
          "output_type": "execute_result",
          "data": {
            "text/html": [
              "<div>\n",
              "<style scoped>\n",
              "    .dataframe tbody tr th:only-of-type {\n",
              "        vertical-align: middle;\n",
              "    }\n",
              "\n",
              "    .dataframe tbody tr th {\n",
              "        vertical-align: top;\n",
              "    }\n",
              "\n",
              "    .dataframe thead th {\n",
              "        text-align: right;\n",
              "    }\n",
              "</style>\n",
              "<table border=\"1\" class=\"dataframe\">\n",
              "  <thead>\n",
              "    <tr style=\"text-align: right;\">\n",
              "      <th></th>\n",
              "      <th>user_input1</th>\n",
              "    </tr>\n",
              "  </thead>\n",
              "  <tbody>\n",
              "    <tr>\n",
              "      <th>greet</th>\n",
              "      <td>/greet</td>\n",
              "    </tr>\n",
              "    <tr>\n",
              "      <th>utter_multiple</th>\n",
              "      <td>We have multiple items</td>\n",
              "    </tr>\n",
              "    <tr>\n",
              "      <th>utter_electronics_or_clothing</th>\n",
              "      <td>What would you prefered clothing or electronics</td>\n",
              "    </tr>\n",
              "    <tr>\n",
              "      <th>mobile</th>\n",
              "      <td>/mobile</td>\n",
              "    </tr>\n",
              "    <tr>\n",
              "      <th>greet</th>\n",
              "      <td>/greet</td>\n",
              "    </tr>\n",
              "    <tr>\n",
              "      <th>utter_multiple</th>\n",
              "      <td>We have multiple items</td>\n",
              "    </tr>\n",
              "    <tr>\n",
              "      <th>utter_electronics_or_clothing</th>\n",
              "      <td>What would you prefered clothing or electronics</td>\n",
              "    </tr>\n",
              "    <tr>\n",
              "      <th>mobile</th>\n",
              "      <td>/mobile</td>\n",
              "    </tr>\n",
              "    <tr>\n",
              "      <th>greet</th>\n",
              "      <td>/greet</td>\n",
              "    </tr>\n",
              "    <tr>\n",
              "      <th>utter_multiple</th>\n",
              "      <td>We have multiple items</td>\n",
              "    </tr>\n",
              "    <tr>\n",
              "      <th>utter_electronics_or_clothing</th>\n",
              "      <td>What would you prefered clothing or electronics</td>\n",
              "    </tr>\n",
              "    <tr>\n",
              "      <th>computer</th>\n",
              "      <td>/computer</td>\n",
              "    </tr>\n",
              "    <tr>\n",
              "      <th>utter_ask_name</th>\n",
              "      <td>What is your name?</td>\n",
              "    </tr>\n",
              "    <tr>\n",
              "      <th>my_name</th>\n",
              "      <td>my name is nikhil</td>\n",
              "    </tr>\n",
              "    <tr>\n",
              "      <th>mobile_number</th>\n",
              "      <td>my number is 01832363165</td>\n",
              "    </tr>\n",
              "    <tr>\n",
              "      <th>address</th>\n",
              "      <td>my address is dhaka</td>\n",
              "    </tr>\n",
              "    <tr>\n",
              "      <th>email</th>\n",
              "      <td>my email is noman@gmail.com</td>\n",
              "    </tr>\n",
              "    <tr>\n",
              "      <th>Name: nikhil</th>\n",
              "      <td>NaN</td>\n",
              "    </tr>\n",
              "    <tr>\n",
              "      <th>Mobile Number:01832363165</th>\n",
              "      <td>NaN</td>\n",
              "    </tr>\n",
              "    <tr>\n",
              "      <th>Address: dhaka</th>\n",
              "      <td>NaN</td>\n",
              "    </tr>\n",
              "    <tr>\n",
              "      <th>email: noman@gmail.com.  we will sent product details as early as possible</th>\n",
              "      <td>NaN</td>\n",
              "    </tr>\n",
              "    <tr>\n",
              "      <th>greet</th>\n",
              "      <td>/greet</td>\n",
              "    </tr>\n",
              "    <tr>\n",
              "      <th>utter_multiple</th>\n",
              "      <td>We have multiple items</td>\n",
              "    </tr>\n",
              "    <tr>\n",
              "      <th>utter_electronics_or_clothing</th>\n",
              "      <td>What would you prefered clothing or electronics</td>\n",
              "    </tr>\n",
              "    <tr>\n",
              "      <th>computer</th>\n",
              "      <td>/computer</td>\n",
              "    </tr>\n",
              "  </tbody>\n",
              "</table>\n",
              "</div>"
            ],
            "text/plain": [
              "                                                                                        user_input1\n",
              "greet                                                                                        /greet\n",
              "utter_multiple                                                               We have multiple items\n",
              "utter_electronics_or_clothing                       What would you prefered clothing or electronics\n",
              "mobile                                                                                      /mobile\n",
              "greet                                                                                        /greet\n",
              "utter_multiple                                                               We have multiple items\n",
              "utter_electronics_or_clothing                       What would you prefered clothing or electronics\n",
              "mobile                                                                                      /mobile\n",
              "greet                                                                                        /greet\n",
              "utter_multiple                                                               We have multiple items\n",
              "utter_electronics_or_clothing                       What would you prefered clothing or electronics\n",
              "computer                                                                                  /computer\n",
              "utter_ask_name                                                                   What is your name?\n",
              "my_name                                                                           my name is nikhil\n",
              "mobile_number                                                              my number is 01832363165\n",
              "address                                                                         my address is dhaka\n",
              "email                                                                   my email is noman@gmail.com\n",
              "Name: nikhil                                                                                    NaN\n",
              "Mobile Number:01832363165                                                                       NaN\n",
              "Address: dhaka                                                                                  NaN\n",
              "email: noman@gmail.com.  we will sent product d...                                              NaN\n",
              "greet                                                                                        /greet\n",
              "utter_multiple                                                               We have multiple items\n",
              "utter_electronics_or_clothing                       What would you prefered clothing or electronics\n",
              "computer                                                                                  /computer"
            ]
          },
          "metadata": {
            "tags": []
          },
          "execution_count": 86
        }
      ]
    },
    {
      "cell_type": "code",
      "metadata": {
        "id": "G_GOVMOLyUrx"
      },
      "source": [
        ""
      ],
      "execution_count": 5,
      "outputs": []
    },
    {
      "cell_type": "code",
      "metadata": {
        "id": "qyAev99KyUuV"
      },
      "source": [
        ""
      ],
      "execution_count": 5,
      "outputs": []
    },
    {
      "cell_type": "code",
      "metadata": {
        "colab": {
          "base_uri": "https://localhost:8080/",
          "height": 700
        },
        "id": "qbuFOirF1RNj",
        "outputId": "fcb2a517-e751-4747-917b-ba42e870abd2"
      },
      "source": [
        "df1=df.dropna()\n",
        "df1"
      ],
      "execution_count": 87,
      "outputs": [
        {
          "output_type": "execute_result",
          "data": {
            "text/html": [
              "<div>\n",
              "<style scoped>\n",
              "    .dataframe tbody tr th:only-of-type {\n",
              "        vertical-align: middle;\n",
              "    }\n",
              "\n",
              "    .dataframe tbody tr th {\n",
              "        vertical-align: top;\n",
              "    }\n",
              "\n",
              "    .dataframe thead th {\n",
              "        text-align: right;\n",
              "    }\n",
              "</style>\n",
              "<table border=\"1\" class=\"dataframe\">\n",
              "  <thead>\n",
              "    <tr style=\"text-align: right;\">\n",
              "      <th></th>\n",
              "      <th>intent</th>\n",
              "    </tr>\n",
              "  </thead>\n",
              "  <tbody>\n",
              "    <tr>\n",
              "      <th>greet</th>\n",
              "      <td>/greet</td>\n",
              "    </tr>\n",
              "    <tr>\n",
              "      <th>utter_multiple</th>\n",
              "      <td>We have multiple items</td>\n",
              "    </tr>\n",
              "    <tr>\n",
              "      <th>utter_electronics_or_clothing</th>\n",
              "      <td>What would you prefered clothing or electronics</td>\n",
              "    </tr>\n",
              "    <tr>\n",
              "      <th>mobile</th>\n",
              "      <td>/mobile</td>\n",
              "    </tr>\n",
              "    <tr>\n",
              "      <th>greet</th>\n",
              "      <td>/greet</td>\n",
              "    </tr>\n",
              "    <tr>\n",
              "      <th>utter_multiple</th>\n",
              "      <td>We have multiple items</td>\n",
              "    </tr>\n",
              "    <tr>\n",
              "      <th>utter_electronics_or_clothing</th>\n",
              "      <td>What would you prefered clothing or electronics</td>\n",
              "    </tr>\n",
              "    <tr>\n",
              "      <th>mobile</th>\n",
              "      <td>/mobile</td>\n",
              "    </tr>\n",
              "    <tr>\n",
              "      <th>greet</th>\n",
              "      <td>/greet</td>\n",
              "    </tr>\n",
              "    <tr>\n",
              "      <th>utter_multiple</th>\n",
              "      <td>We have multiple items</td>\n",
              "    </tr>\n",
              "    <tr>\n",
              "      <th>utter_electronics_or_clothing</th>\n",
              "      <td>What would you prefered clothing or electronics</td>\n",
              "    </tr>\n",
              "    <tr>\n",
              "      <th>computer</th>\n",
              "      <td>/computer</td>\n",
              "    </tr>\n",
              "    <tr>\n",
              "      <th>utter_ask_name</th>\n",
              "      <td>What is your name?</td>\n",
              "    </tr>\n",
              "    <tr>\n",
              "      <th>my_name</th>\n",
              "      <td>my name is nikhil</td>\n",
              "    </tr>\n",
              "    <tr>\n",
              "      <th>mobile_number</th>\n",
              "      <td>my number is 01832363165</td>\n",
              "    </tr>\n",
              "    <tr>\n",
              "      <th>address</th>\n",
              "      <td>my address is dhaka</td>\n",
              "    </tr>\n",
              "    <tr>\n",
              "      <th>email</th>\n",
              "      <td>my email is noman@gmail.com</td>\n",
              "    </tr>\n",
              "    <tr>\n",
              "      <th>greet</th>\n",
              "      <td>/greet</td>\n",
              "    </tr>\n",
              "    <tr>\n",
              "      <th>utter_multiple</th>\n",
              "      <td>We have multiple items</td>\n",
              "    </tr>\n",
              "    <tr>\n",
              "      <th>utter_electronics_or_clothing</th>\n",
              "      <td>What would you prefered clothing or electronics</td>\n",
              "    </tr>\n",
              "    <tr>\n",
              "      <th>computer</th>\n",
              "      <td>/computer</td>\n",
              "    </tr>\n",
              "  </tbody>\n",
              "</table>\n",
              "</div>"
            ],
            "text/plain": [
              "                                                                        intent\n",
              "greet                                                                   /greet\n",
              "utter_multiple                                          We have multiple items\n",
              "utter_electronics_or_clothing  What would you prefered clothing or electronics\n",
              "mobile                                                                 /mobile\n",
              "greet                                                                   /greet\n",
              "utter_multiple                                          We have multiple items\n",
              "utter_electronics_or_clothing  What would you prefered clothing or electronics\n",
              "mobile                                                                 /mobile\n",
              "greet                                                                   /greet\n",
              "utter_multiple                                          We have multiple items\n",
              "utter_electronics_or_clothing  What would you prefered clothing or electronics\n",
              "computer                                                             /computer\n",
              "utter_ask_name                                              What is your name?\n",
              "my_name                                                      my name is nikhil\n",
              "mobile_number                                         my number is 01832363165\n",
              "address                                                    my address is dhaka\n",
              "email                                              my email is noman@gmail.com\n",
              "greet                                                                   /greet\n",
              "utter_multiple                                          We have multiple items\n",
              "utter_electronics_or_clothing  What would you prefered clothing or electronics\n",
              "computer                                                             /computer"
            ]
          },
          "metadata": {
            "tags": []
          },
          "execution_count": 87
        }
      ]
    },
    {
      "cell_type": "code",
      "metadata": {
        "id": "RUyznRmPz0FZ"
      },
      "source": [
        "# df1=pd.DataFrame({\"intent\":['no','deny','never','donot','bad','sad','unhappy','horrible','n']})"
      ],
      "execution_count": 65,
      "outputs": []
    },
    {
      "cell_type": "code",
      "metadata": {
        "colab": {
          "base_uri": "https://localhost:8080/"
        },
        "id": "JTPBYWNdkqLV",
        "outputId": "3c726346-590a-473c-ae71-659e37ad7c5b"
      },
      "source": [
        "import nltk\n",
        "nltk.download('punkt')"
      ],
      "execution_count": 88,
      "outputs": [
        {
          "output_type": "stream",
          "text": [
            "[nltk_data] Downloading package punkt to /root/nltk_data...\n",
            "[nltk_data]   Package punkt is already up-to-date!\n"
          ],
          "name": "stdout"
        },
        {
          "output_type": "execute_result",
          "data": {
            "text/plain": [
              "True"
            ]
          },
          "metadata": {
            "tags": []
          },
          "execution_count": 88
        }
      ]
    },
    {
      "cell_type": "code",
      "metadata": {
        "colab": {
          "base_uri": "https://localhost:8080/",
          "height": 154
        },
        "id": "kY6IxoG9kqay",
        "outputId": "2c57c030-d996-48ea-d1a9-fee48967a958"
      },
      "source": [
        "import re\n",
        "letters_only = re.sub(\"[^a-zA-Z]\",\" \",str(df1))\n",
        "letters_only"
      ],
      "execution_count": 89,
      "outputs": [
        {
          "output_type": "execute_result",
          "data": {
            "application/vnd.google.colaboratory.intrinsic+json": {
              "type": "string"
            },
            "text/plain": [
              "'                                                                        intent greet                                                                    greet utter multiple                                          We have multiple items utter electronics or clothing  What would you prefered clothing or electronics mobile                                                                  mobile greet                                                                    greet utter multiple                                          We have multiple items utter electronics or clothing  What would you prefered clothing or electronics mobile                                                                  mobile greet                                                                    greet utter multiple                                          We have multiple items utter electronics or clothing  What would you prefered clothing or electronics computer                                                              computer utter ask name                                              What is your name  my name                                                      my name is nikhil mobile number                                         my number is             address                                                    my address is dhaka email                                              my email is noman gmail com greet                                                                    greet utter multiple                                          We have multiple items utter electronics or clothing  What would you prefered clothing or electronics computer                                                              computer'"
            ]
          },
          "metadata": {
            "tags": []
          },
          "execution_count": 89
        }
      ]
    },
    {
      "cell_type": "code",
      "metadata": {
        "id": "Z0CdzGeou01s",
        "outputId": "404514fa-a0b1-4439-da3c-ab1fcdd2c0e1",
        "colab": {
          "base_uri": "https://localhost:8080/"
        }
      },
      "source": [
        "sentences = nltk.sent_tokenize(letters_only)\n",
        "sentences"
      ],
      "execution_count": 90,
      "outputs": [
        {
          "output_type": "execute_result",
          "data": {
            "text/plain": [
              "['                                                                        intent greet                                                                    greet utter multiple                                          We have multiple items utter electronics or clothing  What would you prefered clothing or electronics mobile                                                                  mobile greet                                                                    greet utter multiple                                          We have multiple items utter electronics or clothing  What would you prefered clothing or electronics mobile                                                                  mobile greet                                                                    greet utter multiple                                          We have multiple items utter electronics or clothing  What would you prefered clothing or electronics computer                                                              computer utter ask name                                              What is your name  my name                                                      my name is nikhil mobile number                                         my number is             address                                                    my address is dhaka email                                              my email is noman gmail com greet                                                                    greet utter multiple                                          We have multiple items utter electronics or clothing  What would you prefered clothing or electronics computer                                                              computer']"
            ]
          },
          "metadata": {
            "tags": []
          },
          "execution_count": 90
        }
      ]
    },
    {
      "cell_type": "code",
      "metadata": {
        "id": "PbWgSP5dvGUF",
        "outputId": "7f191c41-7c80-437b-aff0-8e34d43e0f90",
        "colab": {
          "base_uri": "https://localhost:8080/"
        }
      },
      "source": [
        "words = nltk.word_tokenize(letters_only)\n",
        "words"
      ],
      "execution_count": 91,
      "outputs": [
        {
          "output_type": "execute_result",
          "data": {
            "text/plain": [
              "['intent',\n",
              " 'greet',\n",
              " 'greet',\n",
              " 'utter',\n",
              " 'multiple',\n",
              " 'We',\n",
              " 'have',\n",
              " 'multiple',\n",
              " 'items',\n",
              " 'utter',\n",
              " 'electronics',\n",
              " 'or',\n",
              " 'clothing',\n",
              " 'What',\n",
              " 'would',\n",
              " 'you',\n",
              " 'prefered',\n",
              " 'clothing',\n",
              " 'or',\n",
              " 'electronics',\n",
              " 'mobile',\n",
              " 'mobile',\n",
              " 'greet',\n",
              " 'greet',\n",
              " 'utter',\n",
              " 'multiple',\n",
              " 'We',\n",
              " 'have',\n",
              " 'multiple',\n",
              " 'items',\n",
              " 'utter',\n",
              " 'electronics',\n",
              " 'or',\n",
              " 'clothing',\n",
              " 'What',\n",
              " 'would',\n",
              " 'you',\n",
              " 'prefered',\n",
              " 'clothing',\n",
              " 'or',\n",
              " 'electronics',\n",
              " 'mobile',\n",
              " 'mobile',\n",
              " 'greet',\n",
              " 'greet',\n",
              " 'utter',\n",
              " 'multiple',\n",
              " 'We',\n",
              " 'have',\n",
              " 'multiple',\n",
              " 'items',\n",
              " 'utter',\n",
              " 'electronics',\n",
              " 'or',\n",
              " 'clothing',\n",
              " 'What',\n",
              " 'would',\n",
              " 'you',\n",
              " 'prefered',\n",
              " 'clothing',\n",
              " 'or',\n",
              " 'electronics',\n",
              " 'computer',\n",
              " 'computer',\n",
              " 'utter',\n",
              " 'ask',\n",
              " 'name',\n",
              " 'What',\n",
              " 'is',\n",
              " 'your',\n",
              " 'name',\n",
              " 'my',\n",
              " 'name',\n",
              " 'my',\n",
              " 'name',\n",
              " 'is',\n",
              " 'nikhil',\n",
              " 'mobile',\n",
              " 'number',\n",
              " 'my',\n",
              " 'number',\n",
              " 'is',\n",
              " 'address',\n",
              " 'my',\n",
              " 'address',\n",
              " 'is',\n",
              " 'dhaka',\n",
              " 'email',\n",
              " 'my',\n",
              " 'email',\n",
              " 'is',\n",
              " 'noman',\n",
              " 'gmail',\n",
              " 'com',\n",
              " 'greet',\n",
              " 'greet',\n",
              " 'utter',\n",
              " 'multiple',\n",
              " 'We',\n",
              " 'have',\n",
              " 'multiple',\n",
              " 'items',\n",
              " 'utter',\n",
              " 'electronics',\n",
              " 'or',\n",
              " 'clothing',\n",
              " 'What',\n",
              " 'would',\n",
              " 'you',\n",
              " 'prefered',\n",
              " 'clothing',\n",
              " 'or',\n",
              " 'electronics',\n",
              " 'computer',\n",
              " 'computer']"
            ]
          },
          "metadata": {
            "tags": []
          },
          "execution_count": 91
        }
      ]
    },
    {
      "cell_type": "code",
      "metadata": {
        "id": "bipD8zbBxaUU",
        "outputId": "b9b48b3c-ea21-453f-9fe7-0a4d2f2fa537",
        "colab": {
          "base_uri": "https://localhost:8080/"
        }
      },
      "source": [
        "len(words)"
      ],
      "execution_count": 107,
      "outputs": [
        {
          "output_type": "execute_result",
          "data": {
            "text/plain": [
              "135"
            ]
          },
          "metadata": {
            "tags": []
          },
          "execution_count": 107
        }
      ]
    },
    {
      "cell_type": "code",
      "metadata": {
        "id": "THPewaUh6eqF",
        "outputId": "0d2e2fef-5bf9-4cee-9367-22a9f4ce6122",
        "colab": {
          "base_uri": "https://localhost:8080/"
        }
      },
      "source": [
        "w=['no','never','dont','no way','not really','sad','unhappy','not good','horrible','disappointed']\n",
        "len(w)"
      ],
      "execution_count": 102,
      "outputs": [
        {
          "output_type": "execute_result",
          "data": {
            "text/plain": [
              "10"
            ]
          },
          "metadata": {
            "tags": []
          },
          "execution_count": 102
        }
      ]
    },
    {
      "cell_type": "code",
      "metadata": {
        "id": "F_lKkVKD2nkw",
        "outputId": "20cd84ed-861d-47d9-c41f-a18df4e967e0",
        "colab": {
          "base_uri": "https://localhost:8080/"
        }
      },
      "source": [
        "w=['no','never','dont','no way','not really','sad','unhappy','not good','horrible','disappointed']\n",
        "words.extend(w)\n",
        "words"
      ],
      "execution_count": 106,
      "outputs": [
        {
          "output_type": "execute_result",
          "data": {
            "text/plain": [
              "['intent',\n",
              " 'greet',\n",
              " 'greet',\n",
              " 'utter',\n",
              " 'multiple',\n",
              " 'We',\n",
              " 'have',\n",
              " 'multiple',\n",
              " 'items',\n",
              " 'utter',\n",
              " 'electronics',\n",
              " 'or',\n",
              " 'clothing',\n",
              " 'What',\n",
              " 'would',\n",
              " 'you',\n",
              " 'prefered',\n",
              " 'clothing',\n",
              " 'or',\n",
              " 'electronics',\n",
              " 'mobile',\n",
              " 'mobile',\n",
              " 'greet',\n",
              " 'greet',\n",
              " 'utter',\n",
              " 'multiple',\n",
              " 'We',\n",
              " 'have',\n",
              " 'multiple',\n",
              " 'items',\n",
              " 'utter',\n",
              " 'electronics',\n",
              " 'or',\n",
              " 'clothing',\n",
              " 'What',\n",
              " 'would',\n",
              " 'you',\n",
              " 'prefered',\n",
              " 'clothing',\n",
              " 'or',\n",
              " 'electronics',\n",
              " 'mobile',\n",
              " 'mobile',\n",
              " 'greet',\n",
              " 'greet',\n",
              " 'utter',\n",
              " 'multiple',\n",
              " 'We',\n",
              " 'have',\n",
              " 'multiple',\n",
              " 'items',\n",
              " 'utter',\n",
              " 'electronics',\n",
              " 'or',\n",
              " 'clothing',\n",
              " 'What',\n",
              " 'would',\n",
              " 'you',\n",
              " 'prefered',\n",
              " 'clothing',\n",
              " 'or',\n",
              " 'electronics',\n",
              " 'computer',\n",
              " 'computer',\n",
              " 'utter',\n",
              " 'ask',\n",
              " 'name',\n",
              " 'What',\n",
              " 'is',\n",
              " 'your',\n",
              " 'name',\n",
              " 'my',\n",
              " 'name',\n",
              " 'my',\n",
              " 'name',\n",
              " 'is',\n",
              " 'nikhil',\n",
              " 'mobile',\n",
              " 'number',\n",
              " 'my',\n",
              " 'number',\n",
              " 'is',\n",
              " 'address',\n",
              " 'my',\n",
              " 'address',\n",
              " 'is',\n",
              " 'dhaka',\n",
              " 'email',\n",
              " 'my',\n",
              " 'email',\n",
              " 'is',\n",
              " 'noman',\n",
              " 'gmail',\n",
              " 'com',\n",
              " 'greet',\n",
              " 'greet',\n",
              " 'utter',\n",
              " 'multiple',\n",
              " 'We',\n",
              " 'have',\n",
              " 'multiple',\n",
              " 'items',\n",
              " 'utter',\n",
              " 'electronics',\n",
              " 'or',\n",
              " 'clothing',\n",
              " 'What',\n",
              " 'would',\n",
              " 'you',\n",
              " 'prefered',\n",
              " 'clothing',\n",
              " 'or',\n",
              " 'electronics',\n",
              " 'computer',\n",
              " 'computer',\n",
              " 'no',\n",
              " 'never',\n",
              " 'dont',\n",
              " 'no way',\n",
              " 'not really',\n",
              " 'sad',\n",
              " 'unhappy',\n",
              " 'not good',\n",
              " 'horrible',\n",
              " 'disappointed',\n",
              " 'no',\n",
              " 'never',\n",
              " 'dont',\n",
              " 'no way',\n",
              " 'not really',\n",
              " 'sad',\n",
              " 'unhappy',\n",
              " 'not good',\n",
              " 'horrible',\n",
              " 'disappointed']"
            ]
          },
          "metadata": {
            "tags": []
          },
          "execution_count": 106
        }
      ]
    },
    {
      "cell_type": "code",
      "metadata": {
        "id": "AzVOfPEmw1xG",
        "outputId": "cef110ed-3b68-49c5-c977-960cc335ea44",
        "colab": {
          "base_uri": "https://localhost:8080/"
        }
      },
      "source": [
        "x_train = words\n",
        "y_train = [1,1,1,1,1,1,1,1,1,1,1,1,1,1,1,1,1,1,1,1,1,1,1,1,1,1,1,1,1,1,1,1,1,1,1,1,1,1,1,1,1,1,1,1,1,1,1,1,1,1,1,1,1,1,1,1,1,1,1,1,1,1,1,1,1,1,1,1,1,1,1,1,1,1,1,1,1,1,1,1,1,1,1,1,1,1,1,1,1,1,1,1,1,1,1,1,1,1,1,1,1,1,1,1,1,1,11,1,1,1,1,1,1,1,1,1,1,1,1,1,1,1,1,1,1,0,0,0,0,0,0,0,0,0,0]\n",
        "len(y_train)"
      ],
      "execution_count": 108,
      "outputs": [
        {
          "output_type": "execute_result",
          "data": {
            "text/plain": [
              "135"
            ]
          },
          "metadata": {
            "tags": []
          },
          "execution_count": 108
        }
      ]
    },
    {
      "cell_type": "code",
      "metadata": {
        "id": "R_ddA3qz63pI",
        "outputId": "c0903d94-8b43-42c7-a1ec-ae5f4c20c94f",
        "colab": {
          "base_uri": "https://localhost:8080/"
        }
      },
      "source": [
        "len(x_train)\n"
      ],
      "execution_count": 109,
      "outputs": [
        {
          "output_type": "execute_result",
          "data": {
            "text/plain": [
              "135"
            ]
          },
          "metadata": {
            "tags": []
          },
          "execution_count": 109
        }
      ]
    },
    {
      "cell_type": "code",
      "metadata": {
        "id": "OXgBNPwj1RQG"
      },
      "source": [
        "from nltk.tokenize import RegexpTokenizer\n",
        "from nltk.stem.porter import PorterStemmer\n",
        "from nltk.corpus import stopwords"
      ],
      "execution_count": 111,
      "outputs": []
    },
    {
      "cell_type": "code",
      "metadata": {
        "id": "Zj1Voncsw0aZ"
      },
      "source": [
        ""
      ],
      "execution_count": null,
      "outputs": []
    },
    {
      "cell_type": "code",
      "metadata": {
        "colab": {
          "base_uri": "https://localhost:8080/"
        },
        "id": "3JFi7aEWi_an",
        "outputId": "f53b193a-94a2-4f96-e6a2-e8e7a74324c7"
      },
      "source": [
        "import nltk\n",
        "nltk.download('stopwords')"
      ],
      "execution_count": 112,
      "outputs": [
        {
          "output_type": "stream",
          "text": [
            "[nltk_data] Downloading package stopwords to /root/nltk_data...\n",
            "[nltk_data]   Package stopwords is already up-to-date!\n"
          ],
          "name": "stdout"
        },
        {
          "output_type": "execute_result",
          "data": {
            "text/plain": [
              "True"
            ]
          },
          "metadata": {
            "tags": []
          },
          "execution_count": 112
        }
      ]
    },
    {
      "cell_type": "code",
      "metadata": {
        "id": "HuoOsVO4jEha"
      },
      "source": [
        "tokenizer = RegexpTokenizer(r'\\w+')\n",
        "en_stopwords = set(stopwords.words('english'))\n",
        "ps = PorterStemmer()"
      ],
      "execution_count": 113,
      "outputs": []
    },
    {
      "cell_type": "code",
      "metadata": {
        "id": "6EvME-rFi_hI"
      },
      "source": [
        "def getCleanedText(text):\n",
        "  text = text.lower()\n",
        "  #tokenize\n",
        "  tokens = tokenizer.tokenize(text)\n",
        "  new_tokens = [token for token in tokens if token not in en_stopwords]\n",
        "  stemmed_tokens = [ps.stem(tokens)for tokens in new_tokens]\n",
        "  clean_text = \"\".join(stemmed_tokens)\n",
        "  return clean_text"
      ],
      "execution_count": 114,
      "outputs": []
    },
    {
      "cell_type": "code",
      "metadata": {
        "id": "ZZxcyVoZ1RTy"
      },
      "source": [
        "x_test = [\"good\",\"okay\",\"right\",\"hey\",\"do\",\"no\"]"
      ],
      "execution_count": 120,
      "outputs": []
    },
    {
      "cell_type": "code",
      "metadata": {
        "id": "iewQy6G2jPtb"
      },
      "source": [
        "x_clean = [getCleanedText(i)for i in x_train]\n",
        "y_clean = [getCleanedText(i)for i in x_test]\n"
      ],
      "execution_count": 121,
      "outputs": []
    },
    {
      "cell_type": "code",
      "metadata": {
        "colab": {
          "base_uri": "https://localhost:8080/"
        },
        "id": "jxlDp0UWjPxV",
        "outputId": "b28c626c-c39d-4250-e311-0166e376d7fa"
      },
      "source": [
        "x_clean"
      ],
      "execution_count": 122,
      "outputs": [
        {
          "output_type": "execute_result",
          "data": {
            "text/plain": [
              "['intent',\n",
              " 'greet',\n",
              " 'greet',\n",
              " 'utter',\n",
              " 'multipl',\n",
              " '',\n",
              " '',\n",
              " 'multipl',\n",
              " 'item',\n",
              " 'utter',\n",
              " 'electron',\n",
              " '',\n",
              " 'cloth',\n",
              " '',\n",
              " 'would',\n",
              " '',\n",
              " 'prefer',\n",
              " 'cloth',\n",
              " '',\n",
              " 'electron',\n",
              " 'mobil',\n",
              " 'mobil',\n",
              " 'greet',\n",
              " 'greet',\n",
              " 'utter',\n",
              " 'multipl',\n",
              " '',\n",
              " '',\n",
              " 'multipl',\n",
              " 'item',\n",
              " 'utter',\n",
              " 'electron',\n",
              " '',\n",
              " 'cloth',\n",
              " '',\n",
              " 'would',\n",
              " '',\n",
              " 'prefer',\n",
              " 'cloth',\n",
              " '',\n",
              " 'electron',\n",
              " 'mobil',\n",
              " 'mobil',\n",
              " 'greet',\n",
              " 'greet',\n",
              " 'utter',\n",
              " 'multipl',\n",
              " '',\n",
              " '',\n",
              " 'multipl',\n",
              " 'item',\n",
              " 'utter',\n",
              " 'electron',\n",
              " '',\n",
              " 'cloth',\n",
              " '',\n",
              " 'would',\n",
              " '',\n",
              " 'prefer',\n",
              " 'cloth',\n",
              " '',\n",
              " 'electron',\n",
              " 'comput',\n",
              " 'comput',\n",
              " 'utter',\n",
              " 'ask',\n",
              " 'name',\n",
              " '',\n",
              " '',\n",
              " '',\n",
              " 'name',\n",
              " '',\n",
              " 'name',\n",
              " '',\n",
              " 'name',\n",
              " '',\n",
              " 'nikhil',\n",
              " 'mobil',\n",
              " 'number',\n",
              " '',\n",
              " 'number',\n",
              " '',\n",
              " 'address',\n",
              " '',\n",
              " 'address',\n",
              " '',\n",
              " 'dhaka',\n",
              " 'email',\n",
              " '',\n",
              " 'email',\n",
              " '',\n",
              " 'noman',\n",
              " 'gmail',\n",
              " 'com',\n",
              " 'greet',\n",
              " 'greet',\n",
              " 'utter',\n",
              " 'multipl',\n",
              " '',\n",
              " '',\n",
              " 'multipl',\n",
              " 'item',\n",
              " 'utter',\n",
              " 'electron',\n",
              " '',\n",
              " 'cloth',\n",
              " '',\n",
              " 'would',\n",
              " '',\n",
              " 'prefer',\n",
              " 'cloth',\n",
              " '',\n",
              " 'electron',\n",
              " 'comput',\n",
              " 'comput',\n",
              " '',\n",
              " 'never',\n",
              " 'dont',\n",
              " 'way',\n",
              " 'realli',\n",
              " 'sad',\n",
              " 'unhappi',\n",
              " 'good',\n",
              " 'horribl',\n",
              " 'disappoint',\n",
              " '',\n",
              " 'never',\n",
              " 'dont',\n",
              " 'way',\n",
              " 'realli',\n",
              " 'sad',\n",
              " 'unhappi',\n",
              " 'good',\n",
              " 'horribl',\n",
              " 'disappoint']"
            ]
          },
          "metadata": {
            "tags": []
          },
          "execution_count": 122
        }
      ]
    },
    {
      "cell_type": "code",
      "metadata": {
        "id": "foP0kA6H7-XC",
        "outputId": "ddf41383-8770-4927-93d8-fe39b05508d6",
        "colab": {
          "base_uri": "https://localhost:8080/"
        }
      },
      "source": [
        "y_clean"
      ],
      "execution_count": 123,
      "outputs": [
        {
          "output_type": "execute_result",
          "data": {
            "text/plain": [
              "['good', 'okay', 'right', 'hey', '', '']"
            ]
          },
          "metadata": {
            "tags": []
          },
          "execution_count": 123
        }
      ]
    },
    {
      "cell_type": "code",
      "metadata": {
        "id": "cMokodzE8CyB"
      },
      "source": [
        "from sklearn.feature_extraction.text import CountVectorizer"
      ],
      "execution_count": 124,
      "outputs": []
    },
    {
      "cell_type": "code",
      "metadata": {
        "id": "adq-yzMu8HD2"
      },
      "source": [
        "cv = CountVectorizer(ngram_range=(1,2))"
      ],
      "execution_count": 125,
      "outputs": []
    },
    {
      "cell_type": "code",
      "metadata": {
        "id": "jx57VPHz8KN-"
      },
      "source": [
        "X_vec = cv.fit_transform(x_clean).toarray()"
      ],
      "execution_count": 126,
      "outputs": []
    },
    {
      "cell_type": "code",
      "metadata": {
        "id": "HdNsuyE-8NV-",
        "outputId": "d294c50d-b67a-44e0-917a-006c9be63765",
        "colab": {
          "base_uri": "https://localhost:8080/"
        }
      },
      "source": [
        "X_vec"
      ],
      "execution_count": 127,
      "outputs": [
        {
          "output_type": "execute_result",
          "data": {
            "text/plain": [
              "array([[0, 0, 0, ..., 0, 0, 0],\n",
              "       [0, 0, 0, ..., 0, 0, 0],\n",
              "       [0, 0, 0, ..., 0, 0, 0],\n",
              "       ...,\n",
              "       [0, 0, 0, ..., 0, 0, 0],\n",
              "       [0, 0, 0, ..., 0, 0, 0],\n",
              "       [0, 0, 0, ..., 0, 0, 0]])"
            ]
          },
          "metadata": {
            "tags": []
          },
          "execution_count": 127
        }
      ]
    },
    {
      "cell_type": "code",
      "metadata": {
        "id": "nwDQZxZQ8Rcf",
        "outputId": "db9be00c-e231-40fa-d4a6-16076d89fa9d",
        "colab": {
          "base_uri": "https://localhost:8080/"
        }
      },
      "source": [
        "print(cv.get_feature_names())"
      ],
      "execution_count": 128,
      "outputs": [
        {
          "output_type": "stream",
          "text": [
            "['address', 'ask', 'cloth', 'com', 'comput', 'dhaka', 'disappoint', 'dont', 'electron', 'email', 'gmail', 'good', 'greet', 'horribl', 'intent', 'item', 'mobil', 'multipl', 'name', 'never', 'nikhil', 'noman', 'number', 'prefer', 'realli', 'sad', 'unhappi', 'utter', 'way', 'would']\n"
          ],
          "name": "stdout"
        }
      ]
    },
    {
      "cell_type": "code",
      "metadata": {
        "id": "lhxDUEPQ8plQ",
        "outputId": "e261672a-f760-4a10-bb8e-55dd406ffd2c",
        "colab": {
          "base_uri": "https://localhost:8080/"
        }
      },
      "source": [
        "xt_vect  = cv.transform(y_clean).toarray()\n",
        "xt_vect"
      ],
      "execution_count": 133,
      "outputs": [
        {
          "output_type": "execute_result",
          "data": {
            "text/plain": [
              "array([[0, 0, 0, 0, 0, 0, 0, 0, 0, 0, 0, 1, 0, 0, 0, 0, 0, 0, 0, 0, 0, 0,\n",
              "        0, 0, 0, 0, 0, 0, 0, 0],\n",
              "       [0, 0, 0, 0, 0, 0, 0, 0, 0, 0, 0, 0, 0, 0, 0, 0, 0, 0, 0, 0, 0, 0,\n",
              "        0, 0, 0, 0, 0, 0, 0, 0],\n",
              "       [0, 0, 0, 0, 0, 0, 0, 0, 0, 0, 0, 0, 0, 0, 0, 0, 0, 0, 0, 0, 0, 0,\n",
              "        0, 0, 0, 0, 0, 0, 0, 0],\n",
              "       [0, 0, 0, 0, 0, 0, 0, 0, 0, 0, 0, 0, 0, 0, 0, 0, 0, 0, 0, 0, 0, 0,\n",
              "        0, 0, 0, 0, 0, 0, 0, 0],\n",
              "       [0, 0, 0, 0, 0, 0, 0, 0, 0, 0, 0, 0, 0, 0, 0, 0, 0, 0, 0, 0, 0, 0,\n",
              "        0, 0, 0, 0, 0, 0, 0, 0],\n",
              "       [0, 0, 0, 0, 0, 0, 0, 0, 0, 0, 0, 0, 0, 0, 0, 0, 0, 0, 0, 0, 0, 0,\n",
              "        0, 0, 0, 0, 0, 0, 0, 0]])"
            ]
          },
          "metadata": {
            "tags": []
          },
          "execution_count": 133
        }
      ]
    },
    {
      "cell_type": "code",
      "metadata": {
        "id": "hAIC0-Nu8TMT"
      },
      "source": [
        "from sklearn.naive_bayes import MultinomialNB"
      ],
      "execution_count": 134,
      "outputs": []
    },
    {
      "cell_type": "code",
      "metadata": {
        "id": "ZIddMvEu8YDH"
      },
      "source": [
        "mn = MultinomialNB()"
      ],
      "execution_count": 135,
      "outputs": []
    },
    {
      "cell_type": "code",
      "metadata": {
        "id": "EgFBrNQK8bGW",
        "outputId": "0ebc5eff-82f2-4277-f5d3-0a0cd0c788ae",
        "colab": {
          "base_uri": "https://localhost:8080/"
        }
      },
      "source": [
        "mn.fit(X_vec,y_train)"
      ],
      "execution_count": 136,
      "outputs": [
        {
          "output_type": "execute_result",
          "data": {
            "text/plain": [
              "MultinomialNB(alpha=1.0, class_prior=None, fit_prior=True)"
            ]
          },
          "metadata": {
            "tags": []
          },
          "execution_count": 136
        }
      ]
    },
    {
      "cell_type": "code",
      "metadata": {
        "id": "wCQXGPaY8e4v",
        "outputId": "3e29261e-e7ec-45f6-c54a-a0b9e76dac1c",
        "colab": {
          "base_uri": "https://localhost:8080/"
        }
      },
      "source": [
        "y_pred = mn.predict(xt_vect)\n",
        "y_pred"
      ],
      "execution_count": 137,
      "outputs": [
        {
          "output_type": "execute_result",
          "data": {
            "text/plain": [
              "array([1, 1, 1, 1, 1, 1])"
            ]
          },
          "metadata": {
            "tags": []
          },
          "execution_count": 137
        }
      ]
    },
    {
      "cell_type": "code",
      "metadata": {
        "id": "SANQ1HTJ8yKh",
        "outputId": "349a0b50-2f9b-4361-9fa0-5766b231ec27",
        "colab": {
          "base_uri": "https://localhost:8080/"
        }
      },
      "source": [
        "if y_pred.any==1:\n",
        "  print(\"the sentiment is nagative\")\n",
        "else:\n",
        "  print(\"the sentiment is postive\")"
      ],
      "execution_count": 138,
      "outputs": [
        {
          "output_type": "stream",
          "text": [
            "the sentiment is postive\n"
          ],
          "name": "stdout"
        }
      ]
    }
  ]
}